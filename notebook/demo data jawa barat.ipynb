{
 "cells": [
  {
   "cell_type": "code",
   "execution_count": 1,
   "metadata": {
    "ExecuteTime": {
     "end_time": "2018-11-09T03:43:02.483662Z",
     "start_time": "2018-11-09T03:43:01.541578Z"
    }
   },
   "outputs": [],
   "source": [
    "import pandas as pd, pathlib\n",
    "%matplotlib inline"
   ]
  },
  {
   "cell_type": "code",
   "execution_count": 2,
   "metadata": {
    "ExecuteTime": {
     "end_time": "2018-11-09T03:43:02.488698Z",
     "start_time": "2018-11-09T03:43:02.485657Z"
    }
   },
   "outputs": [],
   "source": [
    "data_path = pathlib.Path('../testdata/bmkg/data_jawa_barat_1980_2018.xlsx')"
   ]
  },
  {
   "cell_type": "code",
   "execution_count": 3,
   "metadata": {
    "ExecuteTime": {
     "end_time": "2018-11-09T03:43:10.381205Z",
     "start_time": "2018-11-09T03:43:02.490655Z"
    }
   },
   "outputs": [
    {
     "data": {
      "text/html": [
       "<div>\n",
       "<style scoped>\n",
       "    .dataframe tbody tr th:only-of-type {\n",
       "        vertical-align: middle;\n",
       "    }\n",
       "\n",
       "    .dataframe tbody tr th {\n",
       "        vertical-align: top;\n",
       "    }\n",
       "\n",
       "    .dataframe thead th {\n",
       "        text-align: right;\n",
       "    }\n",
       "</style>\n",
       "<table border=\"1\" class=\"dataframe\">\n",
       "  <thead>\n",
       "    <tr style=\"text-align: right;\">\n",
       "      <th></th>\n",
       "      <th>Nama Stasiun</th>\n",
       "      <th>WMO ID</th>\n",
       "      <th>Tanggal</th>\n",
       "      <th>Suhu Minimum (°C)</th>\n",
       "      <th>Suhu Maksimum (°C)</th>\n",
       "      <th>Suhu Rata-rata (°C)</th>\n",
       "      <th>Kelembaban Rata-rata (%)</th>\n",
       "      <th>Curah Hujan (mm)</th>\n",
       "      <th>Lama Penyinaran (jam)</th>\n",
       "      <th>Kecepatan Angin Rata-rata (knot)</th>\n",
       "      <th>Arah Angin Terbanyak (deg)</th>\n",
       "      <th>Kecepatan Angin Terbesar (knot)</th>\n",
       "      <th>Arah Angin Saat Kecepatan Maksimum (deg)</th>\n",
       "      <th>Unnamed: 13</th>\n",
       "      <th>Keterangan</th>\n",
       "    </tr>\n",
       "  </thead>\n",
       "  <tbody>\n",
       "    <tr>\n",
       "      <th>0</th>\n",
       "      <td>Stasiun Meteorologi Jatiwangi</td>\n",
       "      <td>96791</td>\n",
       "      <td>01/01/1980</td>\n",
       "      <td>22.6</td>\n",
       "      <td>32.2</td>\n",
       "      <td>25.8</td>\n",
       "      <td>90</td>\n",
       "      <td>13.9</td>\n",
       "      <td>3.4</td>\n",
       "      <td>3</td>\n",
       "      <td>NW</td>\n",
       "      <td>5</td>\n",
       "      <td>315</td>\n",
       "      <td>NaN</td>\n",
       "      <td>* 8888 : Data Tidak Terukur</td>\n",
       "    </tr>\n",
       "    <tr>\n",
       "      <th>1</th>\n",
       "      <td>Stasiun Geofisika Bandung</td>\n",
       "      <td>96783</td>\n",
       "      <td>01/01/1980</td>\n",
       "      <td>20.0</td>\n",
       "      <td>26.0</td>\n",
       "      <td>23.0</td>\n",
       "      <td>80</td>\n",
       "      <td>1.0</td>\n",
       "      <td>4.5</td>\n",
       "      <td>2</td>\n",
       "      <td>W</td>\n",
       "      <td>4</td>\n",
       "      <td>270</td>\n",
       "      <td>NaN</td>\n",
       "      <td>* 9999 : Tidak Ada Data</td>\n",
       "    </tr>\n",
       "    <tr>\n",
       "      <th>2</th>\n",
       "      <td>Stasiun Meteorologi Jatiwangi</td>\n",
       "      <td>96791</td>\n",
       "      <td>02/01/1980</td>\n",
       "      <td>21.0</td>\n",
       "      <td>30.2</td>\n",
       "      <td>25.7</td>\n",
       "      <td>88</td>\n",
       "      <td>9.4</td>\n",
       "      <td>1.5</td>\n",
       "      <td>4</td>\n",
       "      <td>NW</td>\n",
       "      <td>5</td>\n",
       "      <td>315</td>\n",
       "      <td>NaN</td>\n",
       "      <td>NaN</td>\n",
       "    </tr>\n",
       "    <tr>\n",
       "      <th>3</th>\n",
       "      <td>Stasiun Geofisika Bandung</td>\n",
       "      <td>96783</td>\n",
       "      <td>02/01/1980</td>\n",
       "      <td>18.8</td>\n",
       "      <td>27.3</td>\n",
       "      <td>22.8</td>\n",
       "      <td>80</td>\n",
       "      <td>8888.0</td>\n",
       "      <td>2.2</td>\n",
       "      <td>2</td>\n",
       "      <td>W</td>\n",
       "      <td>4</td>\n",
       "      <td>270</td>\n",
       "      <td>NaN</td>\n",
       "      <td>NaN</td>\n",
       "    </tr>\n",
       "    <tr>\n",
       "      <th>4</th>\n",
       "      <td>Stasiun Meteorologi Jatiwangi</td>\n",
       "      <td>96791</td>\n",
       "      <td>03/01/1980</td>\n",
       "      <td>21.6</td>\n",
       "      <td>31.2</td>\n",
       "      <td>26.6</td>\n",
       "      <td>85</td>\n",
       "      <td>0.0</td>\n",
       "      <td>3.8</td>\n",
       "      <td>4</td>\n",
       "      <td>W</td>\n",
       "      <td>5</td>\n",
       "      <td>270</td>\n",
       "      <td>NaN</td>\n",
       "      <td>NaN</td>\n",
       "    </tr>\n",
       "  </tbody>\n",
       "</table>\n",
       "</div>"
      ],
      "text/plain": [
       "                   Nama Stasiun   WMO ID     Tanggal  Suhu Minimum (°C)  \\\n",
       "0  Stasiun Meteorologi Jatiwangi   96791  01/01/1980               22.6   \n",
       "1      Stasiun Geofisika Bandung   96783  01/01/1980               20.0   \n",
       "2  Stasiun Meteorologi Jatiwangi   96791  02/01/1980               21.0   \n",
       "3      Stasiun Geofisika Bandung   96783  02/01/1980               18.8   \n",
       "4  Stasiun Meteorologi Jatiwangi   96791  03/01/1980               21.6   \n",
       "\n",
       "   Suhu Maksimum (°C)  Suhu Rata-rata (°C)  Kelembaban Rata-rata (%)  \\\n",
       "0                32.2                 25.8                        90   \n",
       "1                26.0                 23.0                        80   \n",
       "2                30.2                 25.7                        88   \n",
       "3                27.3                 22.8                        80   \n",
       "4                31.2                 26.6                        85   \n",
       "\n",
       "   Curah Hujan (mm)  Lama Penyinaran (jam)  Kecepatan Angin Rata-rata (knot)  \\\n",
       "0              13.9                    3.4                                 3   \n",
       "1               1.0                    4.5                                 2   \n",
       "2               9.4                    1.5                                 4   \n",
       "3            8888.0                    2.2                                 2   \n",
       "4               0.0                    3.8                                 4   \n",
       "\n",
       "  Arah Angin Terbanyak (deg)  Kecepatan Angin Terbesar (knot)  \\\n",
       "0                         NW                                5   \n",
       "1                         W                                 4   \n",
       "2                         NW                                5   \n",
       "3                         W                                 4   \n",
       "4                         W                                 5   \n",
       "\n",
       "   Arah Angin Saat Kecepatan Maksimum (deg)  Unnamed: 13  \\\n",
       "0                                       315          NaN   \n",
       "1                                       270          NaN   \n",
       "2                                       315          NaN   \n",
       "3                                       270          NaN   \n",
       "4                                       270          NaN   \n",
       "\n",
       "                    Keterangan  \n",
       "0  * 8888 : Data Tidak Terukur  \n",
       "1      * 9999 : Tidak Ada Data  \n",
       "2                          NaN  \n",
       "3                          NaN  \n",
       "4                          NaN  "
      ]
     },
     "execution_count": 3,
     "metadata": {},
     "output_type": "execute_result"
    }
   ],
   "source": [
    "raw_data_jabar = pd.read_excel(data_path, skiprows=6)\n",
    "raw_data_jabar.head()"
   ]
  },
  {
   "cell_type": "code",
   "execution_count": 4,
   "metadata": {
    "ExecuteTime": {
     "end_time": "2018-11-09T03:43:10.414185Z",
     "start_time": "2018-11-09T03:43:10.384206Z"
    }
   },
   "outputs": [
    {
     "data": {
      "text/html": [
       "<div>\n",
       "<style scoped>\n",
       "    .dataframe tbody tr th:only-of-type {\n",
       "        vertical-align: middle;\n",
       "    }\n",
       "\n",
       "    .dataframe tbody tr th {\n",
       "        vertical-align: top;\n",
       "    }\n",
       "\n",
       "    .dataframe thead th {\n",
       "        text-align: right;\n",
       "    }\n",
       "</style>\n",
       "<table border=\"1\" class=\"dataframe\">\n",
       "  <thead>\n",
       "    <tr style=\"text-align: right;\">\n",
       "      <th></th>\n",
       "      <th>Nama Stasiun</th>\n",
       "      <th>WMO ID</th>\n",
       "      <th>Tanggal</th>\n",
       "      <th>Suhu Minimum (°C)</th>\n",
       "      <th>Suhu Maksimum (°C)</th>\n",
       "      <th>Suhu Rata-rata (°C)</th>\n",
       "      <th>Kelembaban Rata-rata (%)</th>\n",
       "      <th>Curah Hujan (mm)</th>\n",
       "      <th>Lama Penyinaran (jam)</th>\n",
       "      <th>Kecepatan Angin Rata-rata (knot)</th>\n",
       "      <th>Arah Angin Terbanyak (deg)</th>\n",
       "      <th>Kecepatan Angin Terbesar (knot)</th>\n",
       "      <th>Arah Angin Saat Kecepatan Maksimum (deg)</th>\n",
       "    </tr>\n",
       "  </thead>\n",
       "  <tbody>\n",
       "    <tr>\n",
       "      <th>0</th>\n",
       "      <td>Stasiun Meteorologi Jatiwangi</td>\n",
       "      <td>96791</td>\n",
       "      <td>01/01/1980</td>\n",
       "      <td>22.6</td>\n",
       "      <td>32.2</td>\n",
       "      <td>25.8</td>\n",
       "      <td>90</td>\n",
       "      <td>13.9</td>\n",
       "      <td>3.4</td>\n",
       "      <td>3</td>\n",
       "      <td>NW</td>\n",
       "      <td>5</td>\n",
       "      <td>315</td>\n",
       "    </tr>\n",
       "    <tr>\n",
       "      <th>1</th>\n",
       "      <td>Stasiun Geofisika Bandung</td>\n",
       "      <td>96783</td>\n",
       "      <td>01/01/1980</td>\n",
       "      <td>20.0</td>\n",
       "      <td>26.0</td>\n",
       "      <td>23.0</td>\n",
       "      <td>80</td>\n",
       "      <td>1.0</td>\n",
       "      <td>4.5</td>\n",
       "      <td>2</td>\n",
       "      <td>W</td>\n",
       "      <td>4</td>\n",
       "      <td>270</td>\n",
       "    </tr>\n",
       "    <tr>\n",
       "      <th>2</th>\n",
       "      <td>Stasiun Meteorologi Jatiwangi</td>\n",
       "      <td>96791</td>\n",
       "      <td>02/01/1980</td>\n",
       "      <td>21.0</td>\n",
       "      <td>30.2</td>\n",
       "      <td>25.7</td>\n",
       "      <td>88</td>\n",
       "      <td>9.4</td>\n",
       "      <td>1.5</td>\n",
       "      <td>4</td>\n",
       "      <td>NW</td>\n",
       "      <td>5</td>\n",
       "      <td>315</td>\n",
       "    </tr>\n",
       "    <tr>\n",
       "      <th>3</th>\n",
       "      <td>Stasiun Geofisika Bandung</td>\n",
       "      <td>96783</td>\n",
       "      <td>02/01/1980</td>\n",
       "      <td>18.8</td>\n",
       "      <td>27.3</td>\n",
       "      <td>22.8</td>\n",
       "      <td>80</td>\n",
       "      <td>8888.0</td>\n",
       "      <td>2.2</td>\n",
       "      <td>2</td>\n",
       "      <td>W</td>\n",
       "      <td>4</td>\n",
       "      <td>270</td>\n",
       "    </tr>\n",
       "    <tr>\n",
       "      <th>4</th>\n",
       "      <td>Stasiun Meteorologi Jatiwangi</td>\n",
       "      <td>96791</td>\n",
       "      <td>03/01/1980</td>\n",
       "      <td>21.6</td>\n",
       "      <td>31.2</td>\n",
       "      <td>26.6</td>\n",
       "      <td>85</td>\n",
       "      <td>0.0</td>\n",
       "      <td>3.8</td>\n",
       "      <td>4</td>\n",
       "      <td>W</td>\n",
       "      <td>5</td>\n",
       "      <td>270</td>\n",
       "    </tr>\n",
       "    <tr>\n",
       "      <th>5</th>\n",
       "      <td>Stasiun Geofisika Bandung</td>\n",
       "      <td>96783</td>\n",
       "      <td>03/01/1980</td>\n",
       "      <td>19.1</td>\n",
       "      <td>27.7</td>\n",
       "      <td>22.7</td>\n",
       "      <td>80</td>\n",
       "      <td>8888.0</td>\n",
       "      <td>3.0</td>\n",
       "      <td>2</td>\n",
       "      <td>W</td>\n",
       "      <td>4</td>\n",
       "      <td>270</td>\n",
       "    </tr>\n",
       "    <tr>\n",
       "      <th>6</th>\n",
       "      <td>Stasiun Meteorologi Jatiwangi</td>\n",
       "      <td>96791</td>\n",
       "      <td>04/01/1980</td>\n",
       "      <td>22.5</td>\n",
       "      <td>30.6</td>\n",
       "      <td>26.6</td>\n",
       "      <td>84</td>\n",
       "      <td>0.0</td>\n",
       "      <td>0.7</td>\n",
       "      <td>3</td>\n",
       "      <td>NW</td>\n",
       "      <td>5</td>\n",
       "      <td>315</td>\n",
       "    </tr>\n",
       "    <tr>\n",
       "      <th>7</th>\n",
       "      <td>Stasiun Geofisika Bandung</td>\n",
       "      <td>96783</td>\n",
       "      <td>04/01/1980</td>\n",
       "      <td>19.9</td>\n",
       "      <td>26.9</td>\n",
       "      <td>23.3</td>\n",
       "      <td>82</td>\n",
       "      <td>1.0</td>\n",
       "      <td>3.1</td>\n",
       "      <td>2</td>\n",
       "      <td>W</td>\n",
       "      <td>5</td>\n",
       "      <td>270</td>\n",
       "    </tr>\n",
       "    <tr>\n",
       "      <th>8</th>\n",
       "      <td>Stasiun Meteorologi Jatiwangi</td>\n",
       "      <td>96791</td>\n",
       "      <td>05/01/1980</td>\n",
       "      <td>23.1</td>\n",
       "      <td>32.0</td>\n",
       "      <td>26.9</td>\n",
       "      <td>9999</td>\n",
       "      <td>0.0</td>\n",
       "      <td>4.3</td>\n",
       "      <td>2</td>\n",
       "      <td>NW</td>\n",
       "      <td>2</td>\n",
       "      <td>315</td>\n",
       "    </tr>\n",
       "    <tr>\n",
       "      <th>9</th>\n",
       "      <td>Stasiun Geofisika Bandung</td>\n",
       "      <td>96783</td>\n",
       "      <td>05/01/1980</td>\n",
       "      <td>20.6</td>\n",
       "      <td>28.8</td>\n",
       "      <td>23.8</td>\n",
       "      <td>80</td>\n",
       "      <td>8888.0</td>\n",
       "      <td>6.4</td>\n",
       "      <td>2</td>\n",
       "      <td>W</td>\n",
       "      <td>4</td>\n",
       "      <td>270</td>\n",
       "    </tr>\n",
       "  </tbody>\n",
       "</table>\n",
       "</div>"
      ],
      "text/plain": [
       "                   Nama Stasiun   WMO ID     Tanggal  Suhu Minimum (°C)  \\\n",
       "0  Stasiun Meteorologi Jatiwangi   96791  01/01/1980               22.6   \n",
       "1      Stasiun Geofisika Bandung   96783  01/01/1980               20.0   \n",
       "2  Stasiun Meteorologi Jatiwangi   96791  02/01/1980               21.0   \n",
       "3      Stasiun Geofisika Bandung   96783  02/01/1980               18.8   \n",
       "4  Stasiun Meteorologi Jatiwangi   96791  03/01/1980               21.6   \n",
       "5      Stasiun Geofisika Bandung   96783  03/01/1980               19.1   \n",
       "6  Stasiun Meteorologi Jatiwangi   96791  04/01/1980               22.5   \n",
       "7      Stasiun Geofisika Bandung   96783  04/01/1980               19.9   \n",
       "8  Stasiun Meteorologi Jatiwangi   96791  05/01/1980               23.1   \n",
       "9      Stasiun Geofisika Bandung   96783  05/01/1980               20.6   \n",
       "\n",
       "   Suhu Maksimum (°C)  Suhu Rata-rata (°C)  Kelembaban Rata-rata (%)  \\\n",
       "0                32.2                 25.8                        90   \n",
       "1                26.0                 23.0                        80   \n",
       "2                30.2                 25.7                        88   \n",
       "3                27.3                 22.8                        80   \n",
       "4                31.2                 26.6                        85   \n",
       "5                27.7                 22.7                        80   \n",
       "6                30.6                 26.6                        84   \n",
       "7                26.9                 23.3                        82   \n",
       "8                32.0                 26.9                      9999   \n",
       "9                28.8                 23.8                        80   \n",
       "\n",
       "   Curah Hujan (mm)  Lama Penyinaran (jam)  Kecepatan Angin Rata-rata (knot)  \\\n",
       "0              13.9                    3.4                                 3   \n",
       "1               1.0                    4.5                                 2   \n",
       "2               9.4                    1.5                                 4   \n",
       "3            8888.0                    2.2                                 2   \n",
       "4               0.0                    3.8                                 4   \n",
       "5            8888.0                    3.0                                 2   \n",
       "6               0.0                    0.7                                 3   \n",
       "7               1.0                    3.1                                 2   \n",
       "8               0.0                    4.3                                 2   \n",
       "9            8888.0                    6.4                                 2   \n",
       "\n",
       "  Arah Angin Terbanyak (deg)  Kecepatan Angin Terbesar (knot)  \\\n",
       "0                         NW                                5   \n",
       "1                         W                                 4   \n",
       "2                         NW                                5   \n",
       "3                         W                                 4   \n",
       "4                         W                                 5   \n",
       "5                         W                                 4   \n",
       "6                         NW                                5   \n",
       "7                         W                                 5   \n",
       "8                         NW                                2   \n",
       "9                         W                                 4   \n",
       "\n",
       "   Arah Angin Saat Kecepatan Maksimum (deg)  \n",
       "0                                       315  \n",
       "1                                       270  \n",
       "2                                       315  \n",
       "3                                       270  \n",
       "4                                       270  \n",
       "5                                       270  \n",
       "6                                       315  \n",
       "7                                       270  \n",
       "8                                       315  \n",
       "9                                       270  "
      ]
     },
     "execution_count": 4,
     "metadata": {},
     "output_type": "execute_result"
    }
   ],
   "source": [
    "data_jabar = raw_data_jabar.iloc[:,:-2]\n",
    "data_jabar.head(10)"
   ]
  },
  {
   "cell_type": "code",
   "execution_count": 5,
   "metadata": {
    "ExecuteTime": {
     "end_time": "2018-11-09T03:43:10.517127Z",
     "start_time": "2018-11-09T03:43:10.415184Z"
    }
   },
   "outputs": [
    {
     "name": "stdout",
     "output_type": "stream",
     "text": [
      "<class 'pandas.core.frame.DataFrame'>\n",
      "RangeIndex: 52376 entries, 0 to 52375\n",
      "Data columns (total 13 columns):\n",
      "Nama Stasiun                                52376 non-null object\n",
      "WMO ID                                      52376 non-null int64\n",
      "Tanggal                                     52376 non-null object\n",
      "Suhu Minimum (°C)                           52376 non-null float64\n",
      "Suhu Maksimum (°C)                          52376 non-null float64\n",
      "Suhu Rata-rata (°C)                         52376 non-null float64\n",
      "Kelembaban Rata-rata (%)                    52376 non-null int64\n",
      "Curah Hujan (mm)                            52376 non-null float64\n",
      "Lama Penyinaran (jam)                       52376 non-null float64\n",
      "Kecepatan Angin Rata-rata (knot)            52376 non-null int64\n",
      "Arah Angin Terbanyak (deg)                  52376 non-null object\n",
      "Kecepatan Angin Terbesar (knot)             52376 non-null int64\n",
      "Arah Angin Saat Kecepatan Maksimum (deg)    52376 non-null int64\n",
      "dtypes: float64(5), int64(5), object(3)\n",
      "memory usage: 5.2+ MB\n"
     ]
    }
   ],
   "source": [
    "data_jabar.info()"
   ]
  },
  {
   "cell_type": "markdown",
   "metadata": {},
   "source": [
    "## Ubah nama kolom, untuk lebih mudah digunakan"
   ]
  },
  {
   "cell_type": "code",
   "execution_count": 6,
   "metadata": {
    "ExecuteTime": {
     "end_time": "2018-11-09T03:43:10.587087Z",
     "start_time": "2018-11-09T03:43:10.519127Z"
    }
   },
   "outputs": [
    {
     "data": {
      "text/plain": [
       "['Nama Stasiun ',\n",
       " 'WMO ID',\n",
       " 'Tanggal',\n",
       " 'Suhu Minimum (°C)',\n",
       " 'Suhu Maksimum (°C)',\n",
       " 'Suhu Rata-rata (°C)',\n",
       " 'Kelembaban Rata-rata (%)',\n",
       " 'Curah Hujan (mm)',\n",
       " 'Lama Penyinaran (jam)',\n",
       " 'Kecepatan Angin Rata-rata (knot)',\n",
       " 'Arah Angin Terbanyak (deg)',\n",
       " 'Kecepatan Angin Terbesar (knot)',\n",
       " 'Arah Angin Saat Kecepatan Maksimum (deg)']"
      ]
     },
     "execution_count": 6,
     "metadata": {},
     "output_type": "execute_result"
    }
   ],
   "source": [
    "nama_kolom_asli = data_jabar.columns.tolist()\n",
    "nama_kolom_asli"
   ]
  },
  {
   "cell_type": "code",
   "execution_count": 7,
   "metadata": {
    "ExecuteTime": {
     "end_time": "2018-11-09T03:43:10.756982Z",
     "start_time": "2018-11-09T03:43:10.593081Z"
    }
   },
   "outputs": [],
   "source": [
    "nama_baru = [\n",
    "    'name_stat', 'id_stat', 'date', 'suhu_min', 'suhu_max', 'suhu_mean',\n",
    "    'lembab_mean', 'curah_hujan', 'lama_sinar', 'cepat_angin_mean',\n",
    "    'arah_angin_mode', 'cepat_angin_max', 'arah_cepat_angin_max'\n",
    "]\n",
    "\n",
    "# Simpan informasi satuan\n",
    "satuan_kolom = dict(suhu_min='Celcius', suhu_max='Celcius', suhu_mean='Celcius',\n",
    "                    lembab_mean='%', curah_hujan='mm', lama_sinar='jam', cepat_angin_mean='knot',\n",
    "                    arah_angin_mode='deg', cepat_angin_max='knot', arah_cepat_angin_max='deg')"
   ]
  },
  {
   "cell_type": "code",
   "execution_count": 8,
   "metadata": {
    "ExecuteTime": {
     "end_time": "2018-11-09T03:43:10.997303Z",
     "start_time": "2018-11-09T03:43:10.763305Z"
    }
   },
   "outputs": [],
   "source": [
    "data_jabar.columns = nama_baru"
   ]
  },
  {
   "cell_type": "code",
   "execution_count": 9,
   "metadata": {
    "ExecuteTime": {
     "end_time": "2018-11-09T03:43:11.103239Z",
     "start_time": "2018-11-09T03:43:11.004297Z"
    }
   },
   "outputs": [
    {
     "data": {
      "text/html": [
       "<div>\n",
       "<style scoped>\n",
       "    .dataframe tbody tr th:only-of-type {\n",
       "        vertical-align: middle;\n",
       "    }\n",
       "\n",
       "    .dataframe tbody tr th {\n",
       "        vertical-align: top;\n",
       "    }\n",
       "\n",
       "    .dataframe thead th {\n",
       "        text-align: right;\n",
       "    }\n",
       "</style>\n",
       "<table border=\"1\" class=\"dataframe\">\n",
       "  <thead>\n",
       "    <tr style=\"text-align: right;\">\n",
       "      <th></th>\n",
       "      <th>name_stat</th>\n",
       "      <th>id_stat</th>\n",
       "      <th>date</th>\n",
       "      <th>suhu_min</th>\n",
       "      <th>suhu_max</th>\n",
       "      <th>suhu_mean</th>\n",
       "      <th>lembab_mean</th>\n",
       "      <th>curah_hujan</th>\n",
       "      <th>lama_sinar</th>\n",
       "      <th>cepat_angin_mean</th>\n",
       "      <th>arah_angin_mode</th>\n",
       "      <th>cepat_angin_max</th>\n",
       "      <th>arah_cepat_angin_max</th>\n",
       "    </tr>\n",
       "  </thead>\n",
       "  <tbody>\n",
       "    <tr>\n",
       "      <th>0</th>\n",
       "      <td>Stasiun Meteorologi Jatiwangi</td>\n",
       "      <td>96791</td>\n",
       "      <td>01/01/1980</td>\n",
       "      <td>22.6</td>\n",
       "      <td>32.2</td>\n",
       "      <td>25.8</td>\n",
       "      <td>90</td>\n",
       "      <td>13.9</td>\n",
       "      <td>3.4</td>\n",
       "      <td>3</td>\n",
       "      <td>NW</td>\n",
       "      <td>5</td>\n",
       "      <td>315</td>\n",
       "    </tr>\n",
       "    <tr>\n",
       "      <th>1</th>\n",
       "      <td>Stasiun Geofisika Bandung</td>\n",
       "      <td>96783</td>\n",
       "      <td>01/01/1980</td>\n",
       "      <td>20.0</td>\n",
       "      <td>26.0</td>\n",
       "      <td>23.0</td>\n",
       "      <td>80</td>\n",
       "      <td>1.0</td>\n",
       "      <td>4.5</td>\n",
       "      <td>2</td>\n",
       "      <td>W</td>\n",
       "      <td>4</td>\n",
       "      <td>270</td>\n",
       "    </tr>\n",
       "    <tr>\n",
       "      <th>2</th>\n",
       "      <td>Stasiun Meteorologi Jatiwangi</td>\n",
       "      <td>96791</td>\n",
       "      <td>02/01/1980</td>\n",
       "      <td>21.0</td>\n",
       "      <td>30.2</td>\n",
       "      <td>25.7</td>\n",
       "      <td>88</td>\n",
       "      <td>9.4</td>\n",
       "      <td>1.5</td>\n",
       "      <td>4</td>\n",
       "      <td>NW</td>\n",
       "      <td>5</td>\n",
       "      <td>315</td>\n",
       "    </tr>\n",
       "    <tr>\n",
       "      <th>3</th>\n",
       "      <td>Stasiun Geofisika Bandung</td>\n",
       "      <td>96783</td>\n",
       "      <td>02/01/1980</td>\n",
       "      <td>18.8</td>\n",
       "      <td>27.3</td>\n",
       "      <td>22.8</td>\n",
       "      <td>80</td>\n",
       "      <td>8888.0</td>\n",
       "      <td>2.2</td>\n",
       "      <td>2</td>\n",
       "      <td>W</td>\n",
       "      <td>4</td>\n",
       "      <td>270</td>\n",
       "    </tr>\n",
       "    <tr>\n",
       "      <th>4</th>\n",
       "      <td>Stasiun Meteorologi Jatiwangi</td>\n",
       "      <td>96791</td>\n",
       "      <td>03/01/1980</td>\n",
       "      <td>21.6</td>\n",
       "      <td>31.2</td>\n",
       "      <td>26.6</td>\n",
       "      <td>85</td>\n",
       "      <td>0.0</td>\n",
       "      <td>3.8</td>\n",
       "      <td>4</td>\n",
       "      <td>W</td>\n",
       "      <td>5</td>\n",
       "      <td>270</td>\n",
       "    </tr>\n",
       "  </tbody>\n",
       "</table>\n",
       "</div>"
      ],
      "text/plain": [
       "                       name_stat  id_stat        date  suhu_min  suhu_max  \\\n",
       "0  Stasiun Meteorologi Jatiwangi    96791  01/01/1980      22.6      32.2   \n",
       "1      Stasiun Geofisika Bandung    96783  01/01/1980      20.0      26.0   \n",
       "2  Stasiun Meteorologi Jatiwangi    96791  02/01/1980      21.0      30.2   \n",
       "3      Stasiun Geofisika Bandung    96783  02/01/1980      18.8      27.3   \n",
       "4  Stasiun Meteorologi Jatiwangi    96791  03/01/1980      21.6      31.2   \n",
       "\n",
       "   suhu_mean  lembab_mean  curah_hujan  lama_sinar  cepat_angin_mean  \\\n",
       "0       25.8           90         13.9         3.4                 3   \n",
       "1       23.0           80          1.0         4.5                 2   \n",
       "2       25.7           88          9.4         1.5                 4   \n",
       "3       22.8           80       8888.0         2.2                 2   \n",
       "4       26.6           85          0.0         3.8                 4   \n",
       "\n",
       "  arah_angin_mode  cepat_angin_max  arah_cepat_angin_max  \n",
       "0              NW                5                   315  \n",
       "1              W                 4                   270  \n",
       "2              NW                5                   315  \n",
       "3              W                 4                   270  \n",
       "4              W                 5                   270  "
      ]
     },
     "execution_count": 9,
     "metadata": {},
     "output_type": "execute_result"
    }
   ],
   "source": [
    "data_jabar.head()"
   ]
  },
  {
   "cell_type": "markdown",
   "metadata": {},
   "source": [
    "## Ubah tipe data"
   ]
  },
  {
   "cell_type": "code",
   "execution_count": 10,
   "metadata": {
    "ExecuteTime": {
     "end_time": "2018-11-09T03:43:11.266192Z",
     "start_time": "2018-11-09T03:43:11.107237Z"
    }
   },
   "outputs": [
    {
     "name": "stdout",
     "output_type": "stream",
     "text": [
      "<class 'pandas.core.frame.DataFrame'>\n",
      "RangeIndex: 52376 entries, 0 to 52375\n",
      "Data columns (total 13 columns):\n",
      "name_stat               52376 non-null object\n",
      "id_stat                 52376 non-null int64\n",
      "date                    52376 non-null object\n",
      "suhu_min                52376 non-null float64\n",
      "suhu_max                52376 non-null float64\n",
      "suhu_mean               52376 non-null float64\n",
      "lembab_mean             52376 non-null int64\n",
      "curah_hujan             52376 non-null float64\n",
      "lama_sinar              52376 non-null float64\n",
      "cepat_angin_mean        52376 non-null int64\n",
      "arah_angin_mode         52376 non-null object\n",
      "cepat_angin_max         52376 non-null int64\n",
      "arah_cepat_angin_max    52376 non-null int64\n",
      "dtypes: float64(5), int64(5), object(3)\n",
      "memory usage: 5.2+ MB\n"
     ]
    }
   ],
   "source": [
    "data_jabar.info()"
   ]
  },
  {
   "cell_type": "markdown",
   "metadata": {},
   "source": [
    "`id_stat` diubah menjadi `object`; `date` jadi `TimeStamp`;"
   ]
  },
  {
   "cell_type": "code",
   "execution_count": 11,
   "metadata": {
    "ExecuteTime": {
     "end_time": "2018-11-09T03:43:11.640082Z",
     "start_time": "2018-11-09T03:43:11.267191Z"
    }
   },
   "outputs": [],
   "source": [
    "data_jabar.id_stat = data_jabar.id_stat.apply(str)\n",
    "data_jabar.date = pd.to_datetime(data_jabar.date, format='%d/%m/%Y')"
   ]
  },
  {
   "cell_type": "markdown",
   "metadata": {},
   "source": [
    "## Ambil data Per stasiun"
   ]
  },
  {
   "cell_type": "code",
   "execution_count": 12,
   "metadata": {
    "ExecuteTime": {
     "end_time": "2018-11-09T03:43:11.807994Z",
     "start_time": "2018-11-09T03:43:11.642080Z"
    }
   },
   "outputs": [],
   "source": [
    "# cek jumlah stasiun\n",
    "data_jabar = data_jabar.sort_values(['id_stat','date']).reset_index(drop=True)"
   ]
  },
  {
   "cell_type": "code",
   "execution_count": 13,
   "metadata": {
    "ExecuteTime": {
     "end_time": "2018-11-09T03:43:11.825979Z",
     "start_time": "2018-11-09T03:43:11.808989Z"
    }
   },
   "outputs": [
    {
     "data": {
      "text/html": [
       "<div>\n",
       "<style scoped>\n",
       "    .dataframe tbody tr th:only-of-type {\n",
       "        vertical-align: middle;\n",
       "    }\n",
       "\n",
       "    .dataframe tbody tr th {\n",
       "        vertical-align: top;\n",
       "    }\n",
       "\n",
       "    .dataframe thead th {\n",
       "        text-align: right;\n",
       "    }\n",
       "</style>\n",
       "<table border=\"1\" class=\"dataframe\">\n",
       "  <thead>\n",
       "    <tr style=\"text-align: right;\">\n",
       "      <th></th>\n",
       "      <th>name_stat</th>\n",
       "      <th>id_stat</th>\n",
       "      <th>date</th>\n",
       "      <th>suhu_min</th>\n",
       "      <th>suhu_max</th>\n",
       "      <th>suhu_mean</th>\n",
       "      <th>lembab_mean</th>\n",
       "      <th>curah_hujan</th>\n",
       "      <th>lama_sinar</th>\n",
       "      <th>cepat_angin_mean</th>\n",
       "      <th>arah_angin_mode</th>\n",
       "      <th>cepat_angin_max</th>\n",
       "      <th>arah_cepat_angin_max</th>\n",
       "    </tr>\n",
       "  </thead>\n",
       "  <tbody>\n",
       "    <tr>\n",
       "      <th>0</th>\n",
       "      <td>Stasiun Meteorologi Citeko</td>\n",
       "      <td>96751</td>\n",
       "      <td>1985-01-01</td>\n",
       "      <td>18.1</td>\n",
       "      <td>24.7</td>\n",
       "      <td>20.3</td>\n",
       "      <td>90</td>\n",
       "      <td>9.0</td>\n",
       "      <td>9999.0</td>\n",
       "      <td>9999</td>\n",
       "      <td>9999</td>\n",
       "      <td>9999</td>\n",
       "      <td>9999</td>\n",
       "    </tr>\n",
       "    <tr>\n",
       "      <th>1</th>\n",
       "      <td>Stasiun Meteorologi Citeko</td>\n",
       "      <td>96751</td>\n",
       "      <td>1985-01-02</td>\n",
       "      <td>18.0</td>\n",
       "      <td>24.1</td>\n",
       "      <td>20.7</td>\n",
       "      <td>88</td>\n",
       "      <td>11.0</td>\n",
       "      <td>9999.0</td>\n",
       "      <td>9999</td>\n",
       "      <td>9999</td>\n",
       "      <td>9999</td>\n",
       "      <td>9999</td>\n",
       "    </tr>\n",
       "    <tr>\n",
       "      <th>2</th>\n",
       "      <td>Stasiun Meteorologi Citeko</td>\n",
       "      <td>96751</td>\n",
       "      <td>1985-01-03</td>\n",
       "      <td>17.6</td>\n",
       "      <td>25.5</td>\n",
       "      <td>21.0</td>\n",
       "      <td>86</td>\n",
       "      <td>7.0</td>\n",
       "      <td>9999.0</td>\n",
       "      <td>9999</td>\n",
       "      <td>9999</td>\n",
       "      <td>9999</td>\n",
       "      <td>9999</td>\n",
       "    </tr>\n",
       "    <tr>\n",
       "      <th>3</th>\n",
       "      <td>Stasiun Meteorologi Citeko</td>\n",
       "      <td>96751</td>\n",
       "      <td>1985-01-04</td>\n",
       "      <td>17.8</td>\n",
       "      <td>25.6</td>\n",
       "      <td>21.7</td>\n",
       "      <td>88</td>\n",
       "      <td>7.0</td>\n",
       "      <td>9999.0</td>\n",
       "      <td>9999</td>\n",
       "      <td>9999</td>\n",
       "      <td>9999</td>\n",
       "      <td>9999</td>\n",
       "    </tr>\n",
       "    <tr>\n",
       "      <th>4</th>\n",
       "      <td>Stasiun Meteorologi Citeko</td>\n",
       "      <td>96751</td>\n",
       "      <td>1985-01-05</td>\n",
       "      <td>17.5</td>\n",
       "      <td>23.7</td>\n",
       "      <td>21.0</td>\n",
       "      <td>87</td>\n",
       "      <td>13.0</td>\n",
       "      <td>9999.0</td>\n",
       "      <td>9999</td>\n",
       "      <td>9999</td>\n",
       "      <td>9999</td>\n",
       "      <td>9999</td>\n",
       "    </tr>\n",
       "  </tbody>\n",
       "</table>\n",
       "</div>"
      ],
      "text/plain": [
       "                    name_stat id_stat       date  suhu_min  suhu_max  \\\n",
       "0  Stasiun Meteorologi Citeko   96751 1985-01-01      18.1      24.7   \n",
       "1  Stasiun Meteorologi Citeko   96751 1985-01-02      18.0      24.1   \n",
       "2  Stasiun Meteorologi Citeko   96751 1985-01-03      17.6      25.5   \n",
       "3  Stasiun Meteorologi Citeko   96751 1985-01-04      17.8      25.6   \n",
       "4  Stasiun Meteorologi Citeko   96751 1985-01-05      17.5      23.7   \n",
       "\n",
       "   suhu_mean  lembab_mean  curah_hujan  lama_sinar  cepat_angin_mean  \\\n",
       "0       20.3           90          9.0      9999.0              9999   \n",
       "1       20.7           88         11.0      9999.0              9999   \n",
       "2       21.0           86          7.0      9999.0              9999   \n",
       "3       21.7           88          7.0      9999.0              9999   \n",
       "4       21.0           87         13.0      9999.0              9999   \n",
       "\n",
       "  arah_angin_mode  cepat_angin_max  arah_cepat_angin_max  \n",
       "0            9999             9999                  9999  \n",
       "1            9999             9999                  9999  \n",
       "2            9999             9999                  9999  \n",
       "3            9999             9999                  9999  \n",
       "4            9999             9999                  9999  "
      ]
     },
     "execution_count": 13,
     "metadata": {},
     "output_type": "execute_result"
    }
   ],
   "source": [
    "data_jabar.head()"
   ]
  },
  {
   "cell_type": "code",
   "execution_count": 14,
   "metadata": {
    "ExecuteTime": {
     "end_time": "2018-11-09T03:43:11.950907Z",
     "start_time": "2018-11-09T03:43:11.826978Z"
    }
   },
   "outputs": [
    {
     "data": {
      "text/plain": [
       "array(['96751', '96753', '96783', '96791', '96793'], dtype=object)"
      ]
     },
     "execution_count": 14,
     "metadata": {},
     "output_type": "execute_result"
    }
   ],
   "source": [
    "# Cek jumlah stasiun yang ada berdasarkan id_stat\n",
    "data_jabar.id_stat.unique()"
   ]
  },
  {
   "cell_type": "code",
   "execution_count": 15,
   "metadata": {
    "ExecuteTime": {
     "end_time": "2018-11-09T03:43:12.127808Z",
     "start_time": "2018-11-09T03:43:11.955902Z"
    }
   },
   "outputs": [
    {
     "data": {
      "text/html": [
       "<div>\n",
       "<style scoped>\n",
       "    .dataframe tbody tr th:only-of-type {\n",
       "        vertical-align: middle;\n",
       "    }\n",
       "\n",
       "    .dataframe tbody tr th {\n",
       "        vertical-align: top;\n",
       "    }\n",
       "\n",
       "    .dataframe thead th {\n",
       "        text-align: right;\n",
       "    }\n",
       "</style>\n",
       "<table border=\"1\" class=\"dataframe\">\n",
       "  <thead>\n",
       "    <tr style=\"text-align: right;\">\n",
       "      <th></th>\n",
       "      <th>name_stat</th>\n",
       "      <th>date</th>\n",
       "      <th>suhu_min</th>\n",
       "      <th>suhu_max</th>\n",
       "      <th>suhu_mean</th>\n",
       "      <th>lembab_mean</th>\n",
       "      <th>curah_hujan</th>\n",
       "      <th>lama_sinar</th>\n",
       "      <th>cepat_angin_mean</th>\n",
       "      <th>arah_angin_mode</th>\n",
       "      <th>cepat_angin_max</th>\n",
       "      <th>arah_cepat_angin_max</th>\n",
       "    </tr>\n",
       "    <tr>\n",
       "      <th>id_stat</th>\n",
       "      <th></th>\n",
       "      <th></th>\n",
       "      <th></th>\n",
       "      <th></th>\n",
       "      <th></th>\n",
       "      <th></th>\n",
       "      <th></th>\n",
       "      <th></th>\n",
       "      <th></th>\n",
       "      <th></th>\n",
       "      <th></th>\n",
       "      <th></th>\n",
       "    </tr>\n",
       "  </thead>\n",
       "  <tbody>\n",
       "    <tr>\n",
       "      <th>96751</th>\n",
       "      <td>11934</td>\n",
       "      <td>11934</td>\n",
       "      <td>11934</td>\n",
       "      <td>11934</td>\n",
       "      <td>11934</td>\n",
       "      <td>11934</td>\n",
       "      <td>11934</td>\n",
       "      <td>11934</td>\n",
       "      <td>11934</td>\n",
       "      <td>11934</td>\n",
       "      <td>11934</td>\n",
       "      <td>11934</td>\n",
       "    </tr>\n",
       "    <tr>\n",
       "      <th>96753</th>\n",
       "      <td>12330</td>\n",
       "      <td>12330</td>\n",
       "      <td>12330</td>\n",
       "      <td>12330</td>\n",
       "      <td>12330</td>\n",
       "      <td>12330</td>\n",
       "      <td>12330</td>\n",
       "      <td>12330</td>\n",
       "      <td>12330</td>\n",
       "      <td>12330</td>\n",
       "      <td>12330</td>\n",
       "      <td>12330</td>\n",
       "    </tr>\n",
       "    <tr>\n",
       "      <th>96783</th>\n",
       "      <td>13817</td>\n",
       "      <td>13817</td>\n",
       "      <td>13817</td>\n",
       "      <td>13817</td>\n",
       "      <td>13817</td>\n",
       "      <td>13817</td>\n",
       "      <td>13817</td>\n",
       "      <td>13817</td>\n",
       "      <td>13817</td>\n",
       "      <td>13817</td>\n",
       "      <td>13817</td>\n",
       "      <td>13817</td>\n",
       "    </tr>\n",
       "    <tr>\n",
       "      <th>96791</th>\n",
       "      <td>13807</td>\n",
       "      <td>13807</td>\n",
       "      <td>13807</td>\n",
       "      <td>13807</td>\n",
       "      <td>13807</td>\n",
       "      <td>13807</td>\n",
       "      <td>13807</td>\n",
       "      <td>13807</td>\n",
       "      <td>13807</td>\n",
       "      <td>13807</td>\n",
       "      <td>13807</td>\n",
       "      <td>13807</td>\n",
       "    </tr>\n",
       "    <tr>\n",
       "      <th>96793</th>\n",
       "      <td>488</td>\n",
       "      <td>488</td>\n",
       "      <td>488</td>\n",
       "      <td>488</td>\n",
       "      <td>488</td>\n",
       "      <td>488</td>\n",
       "      <td>488</td>\n",
       "      <td>488</td>\n",
       "      <td>488</td>\n",
       "      <td>488</td>\n",
       "      <td>488</td>\n",
       "      <td>488</td>\n",
       "    </tr>\n",
       "  </tbody>\n",
       "</table>\n",
       "</div>"
      ],
      "text/plain": [
       "         name_stat   date  suhu_min  suhu_max  suhu_mean  lembab_mean  \\\n",
       "id_stat                                                                 \n",
       "96751        11934  11934     11934     11934      11934        11934   \n",
       "96753        12330  12330     12330     12330      12330        12330   \n",
       "96783        13817  13817     13817     13817      13817        13817   \n",
       "96791        13807  13807     13807     13807      13807        13807   \n",
       "96793          488    488       488       488        488          488   \n",
       "\n",
       "         curah_hujan  lama_sinar  cepat_angin_mean  arah_angin_mode  \\\n",
       "id_stat                                                               \n",
       "96751          11934       11934             11934            11934   \n",
       "96753          12330       12330             12330            12330   \n",
       "96783          13817       13817             13817            13817   \n",
       "96791          13807       13807             13807            13807   \n",
       "96793            488         488               488              488   \n",
       "\n",
       "         cepat_angin_max  arah_cepat_angin_max  \n",
       "id_stat                                         \n",
       "96751              11934                 11934  \n",
       "96753              12330                 12330  \n",
       "96783              13817                 13817  \n",
       "96791              13807                 13807  \n",
       "96793                488                   488  "
      ]
     },
     "execution_count": 15,
     "metadata": {},
     "output_type": "execute_result"
    }
   ],
   "source": [
    "# Ada 5 stasiun, lihat juga jumlah data yang dimiliki\n",
    "data_jabar.groupby('id_stat').count()"
   ]
  },
  {
   "cell_type": "code",
   "execution_count": 16,
   "metadata": {
    "ExecuteTime": {
     "end_time": "2018-11-09T03:43:12.220751Z",
     "start_time": "2018-11-09T03:43:12.129807Z"
    }
   },
   "outputs": [
    {
     "data": {
      "text/plain": [
       "{'96751': 'Stasiun Meteorologi Citeko',\n",
       " '96753': 'Stasiun Klimatologi Bogor',\n",
       " '96783': 'Stasiun Geofisika Bandung',\n",
       " '96791': 'Stasiun Meteorologi Jatiwangi',\n",
       " '96793': 'Pos Meteorologi Penggung'}"
      ]
     },
     "execution_count": 16,
     "metadata": {},
     "output_type": "execute_result"
    }
   ],
   "source": [
    "# buat dictionary id dan nama stasiun (hal ini bisa menggunakan database dalam metadata_station)\n",
    "info_stat_jabar = dict()\n",
    "for i, j in zip(data_jabar.id_stat.unique().tolist(), data_jabar.name_stat.unique().tolist()):\n",
    "    info_stat_jabar[i] = j\n",
    "info_stat_jabar"
   ]
  },
  {
   "cell_type": "markdown",
   "metadata": {},
   "source": [
    "Diketahui bahwa untuk \n",
    "- 96751: Stasiun Meteorologi Citeko - `11934` hari\n",
    "- 96753: Stasiun Klimatologi Bogor - `12330` hari\n",
    "- 96783: Stasiun Geofisika Bandung - `13817` hari\n",
    "- 96791: Stasiun Meteorologi Jatiwangi - `13807` hari\n",
    "- 96793: Pos Meteorologi Penggung - `488` hari\n",
    "\n",
    "__catatan: angka tersebut masih memiliki nilai `9999` dan `8888`__"
   ]
  },
  {
   "cell_type": "code",
   "execution_count": 17,
   "metadata": {
    "ExecuteTime": {
     "end_time": "2018-11-09T03:43:12.397698Z",
     "start_time": "2018-11-09T03:43:12.222749Z"
    }
   },
   "outputs": [
    {
     "data": {
      "text/html": [
       "<div>\n",
       "<style scoped>\n",
       "    .dataframe tbody tr th:only-of-type {\n",
       "        vertical-align: middle;\n",
       "    }\n",
       "\n",
       "    .dataframe tbody tr th {\n",
       "        vertical-align: top;\n",
       "    }\n",
       "\n",
       "    .dataframe thead th {\n",
       "        text-align: right;\n",
       "    }\n",
       "</style>\n",
       "<table border=\"1\" class=\"dataframe\">\n",
       "  <thead>\n",
       "    <tr style=\"text-align: right;\">\n",
       "      <th></th>\n",
       "      <th>suhu_min</th>\n",
       "      <th>suhu_max</th>\n",
       "      <th>suhu_mean</th>\n",
       "      <th>lembab_mean</th>\n",
       "      <th>curah_hujan</th>\n",
       "      <th>lama_sinar</th>\n",
       "      <th>cepat_angin_mean</th>\n",
       "      <th>arah_angin_mode</th>\n",
       "      <th>cepat_angin_max</th>\n",
       "      <th>arah_cepat_angin_max</th>\n",
       "    </tr>\n",
       "    <tr>\n",
       "      <th>date</th>\n",
       "      <th></th>\n",
       "      <th></th>\n",
       "      <th></th>\n",
       "      <th></th>\n",
       "      <th></th>\n",
       "      <th></th>\n",
       "      <th></th>\n",
       "      <th></th>\n",
       "      <th></th>\n",
       "      <th></th>\n",
       "    </tr>\n",
       "  </thead>\n",
       "  <tbody>\n",
       "    <tr>\n",
       "      <th>1985-01-01</th>\n",
       "      <td>18.1</td>\n",
       "      <td>24.7</td>\n",
       "      <td>20.3</td>\n",
       "      <td>90</td>\n",
       "      <td>9.0</td>\n",
       "      <td>9999.0</td>\n",
       "      <td>9999</td>\n",
       "      <td>9999</td>\n",
       "      <td>9999</td>\n",
       "      <td>9999</td>\n",
       "    </tr>\n",
       "    <tr>\n",
       "      <th>1985-01-02</th>\n",
       "      <td>18.0</td>\n",
       "      <td>24.1</td>\n",
       "      <td>20.7</td>\n",
       "      <td>88</td>\n",
       "      <td>11.0</td>\n",
       "      <td>9999.0</td>\n",
       "      <td>9999</td>\n",
       "      <td>9999</td>\n",
       "      <td>9999</td>\n",
       "      <td>9999</td>\n",
       "    </tr>\n",
       "    <tr>\n",
       "      <th>1985-01-03</th>\n",
       "      <td>17.6</td>\n",
       "      <td>25.5</td>\n",
       "      <td>21.0</td>\n",
       "      <td>86</td>\n",
       "      <td>7.0</td>\n",
       "      <td>9999.0</td>\n",
       "      <td>9999</td>\n",
       "      <td>9999</td>\n",
       "      <td>9999</td>\n",
       "      <td>9999</td>\n",
       "    </tr>\n",
       "    <tr>\n",
       "      <th>1985-01-04</th>\n",
       "      <td>17.8</td>\n",
       "      <td>25.6</td>\n",
       "      <td>21.7</td>\n",
       "      <td>88</td>\n",
       "      <td>7.0</td>\n",
       "      <td>9999.0</td>\n",
       "      <td>9999</td>\n",
       "      <td>9999</td>\n",
       "      <td>9999</td>\n",
       "      <td>9999</td>\n",
       "    </tr>\n",
       "    <tr>\n",
       "      <th>1985-01-05</th>\n",
       "      <td>17.5</td>\n",
       "      <td>23.7</td>\n",
       "      <td>21.0</td>\n",
       "      <td>87</td>\n",
       "      <td>13.0</td>\n",
       "      <td>9999.0</td>\n",
       "      <td>9999</td>\n",
       "      <td>9999</td>\n",
       "      <td>9999</td>\n",
       "      <td>9999</td>\n",
       "    </tr>\n",
       "  </tbody>\n",
       "</table>\n",
       "</div>"
      ],
      "text/plain": [
       "            suhu_min  suhu_max  suhu_mean  lembab_mean  curah_hujan  \\\n",
       "date                                                                  \n",
       "1985-01-01      18.1      24.7       20.3           90          9.0   \n",
       "1985-01-02      18.0      24.1       20.7           88         11.0   \n",
       "1985-01-03      17.6      25.5       21.0           86          7.0   \n",
       "1985-01-04      17.8      25.6       21.7           88          7.0   \n",
       "1985-01-05      17.5      23.7       21.0           87         13.0   \n",
       "\n",
       "            lama_sinar  cepat_angin_mean arah_angin_mode  cepat_angin_max  \\\n",
       "date                                                                        \n",
       "1985-01-01      9999.0              9999            9999             9999   \n",
       "1985-01-02      9999.0              9999            9999             9999   \n",
       "1985-01-03      9999.0              9999            9999             9999   \n",
       "1985-01-04      9999.0              9999            9999             9999   \n",
       "1985-01-05      9999.0              9999            9999             9999   \n",
       "\n",
       "            arah_cepat_angin_max  \n",
       "date                              \n",
       "1985-01-01                  9999  \n",
       "1985-01-02                  9999  \n",
       "1985-01-03                  9999  \n",
       "1985-01-04                  9999  \n",
       "1985-01-05                  9999  "
      ]
     },
     "execution_count": 17,
     "metadata": {},
     "output_type": "execute_result"
    }
   ],
   "source": [
    "stat_citeko = data_jabar[data_jabar.id_stat == '96751'].drop(['name_stat', 'id_stat'], axis=1).copy()\n",
    "stat_citeko = stat_citeko.set_index('date')\n",
    "stat_citeko.head()"
   ]
  },
  {
   "cell_type": "code",
   "execution_count": 18,
   "metadata": {
    "ExecuteTime": {
     "end_time": "2018-11-09T03:43:12.476653Z",
     "start_time": "2018-11-09T03:43:12.399698Z"
    }
   },
   "outputs": [
    {
     "data": {
      "text/plain": [
       "401"
      ]
     },
     "execution_count": 18,
     "metadata": {},
     "output_type": "execute_result"
    }
   ],
   "source": [
    "# Hitung jumlah data curah hujan yang memiliki nilai 9999 dan 8888\n",
    "stat_citeko_ch = stat_citeko.curah_hujan\n",
    "mask = (stat_citeko_ch == 9999) | (stat_citeko_ch == 8888)\n",
    "mask.sum()"
   ]
  },
  {
   "cell_type": "code",
   "execution_count": 19,
   "metadata": {
    "ExecuteTime": {
     "end_time": "2018-11-09T03:43:12.615792Z",
     "start_time": "2018-11-09T03:43:12.480648Z"
    }
   },
   "outputs": [
    {
     "data": {
      "text/plain": [
       "DatetimeIndex(['1985-01-01', '1985-01-02', '1985-01-03', '1985-01-04',\n",
       "               '1985-01-05', '1985-01-06', '1985-01-07', '1985-01-08',\n",
       "               '1985-01-09', '1985-01-10',\n",
       "               ...\n",
       "               '2017-12-23', '2017-12-24', '2017-12-25', '2017-12-26',\n",
       "               '2017-12-27', '2017-12-28', '2017-12-29', '2017-12-30',\n",
       "               '2017-12-31', '2018-01-01'],\n",
       "              dtype='datetime64[ns]', name='date', length=11934, freq=None)"
      ]
     },
     "execution_count": 19,
     "metadata": {},
     "output_type": "execute_result"
    }
   ],
   "source": [
    "# Pada tanggal berapa saja datanya memiliki nilai 8888 atau 9999\n",
    "mask.index"
   ]
  },
  {
   "cell_type": "code",
   "execution_count": 20,
   "metadata": {
    "ExecuteTime": {
     "end_time": "2018-11-09T03:43:14.726381Z",
     "start_time": "2018-11-09T03:43:12.619784Z"
    }
   },
   "outputs": [
    {
     "data": {
      "text/plain": [
       "<matplotlib.axes._subplots.AxesSubplot at 0x1ed0ebc46a0>"
      ]
     },
     "execution_count": 20,
     "metadata": {},
     "output_type": "execute_result"
    },
    {
     "data": {
      "image/png": "[encoded data removed]",
      "text/plain": [
       "<Figure size 1080x720 with 1 Axes>"
      ]
     },
     "metadata": {
      "needs_background": "light"
     },
     "output_type": "display_data"
    }
   ],
   "source": [
    "# Coba plot curah hujan dengan mengabaikan nilai 8888/9999 pada durasi tertentu\n",
    "stat_citeko_ch[~mask].plot(figsize=(15,10))"
   ]
  },
  {
   "cell_type": "code",
   "execution_count": 21,
   "metadata": {
    "ExecuteTime": {
     "end_time": "2018-11-09T03:43:15.318325Z",
     "start_time": "2018-11-09T03:43:14.728379Z"
    }
   },
   "outputs": [
    {
     "data": {
      "text/plain": [
       "<matplotlib.axes._subplots.AxesSubplot at 0x1ed10355cf8>"
      ]
     },
     "execution_count": 21,
     "metadata": {},
     "output_type": "execute_result"
    },
    {
     "data": {
      "image/png": "[encoded data removed]",
      "text/plain": [
       "<Figure size 1080x720 with 1 Axes>"
      ]
     },
     "metadata": {
      "needs_background": "light"
     },
     "output_type": "display_data"
    }
   ],
   "source": [
    "# Periode tertentu\n",
    "ch_citeko_00_05 = stat_citeko_ch[~mask].loc['20000101':'20051231']\n",
    "ch_citeko_00_05.plot(figsize=(15,10))"
   ]
  },
  {
   "cell_type": "code",
   "execution_count": 22,
   "metadata": {
    "ExecuteTime": {
     "end_time": "2018-11-09T03:43:15.623987Z",
     "start_time": "2018-11-09T03:43:15.321893Z"
    }
   },
   "outputs": [
    {
     "data": {
      "text/plain": [
       "<matplotlib.axes._subplots.AxesSubplot at 0x1ed10e2f588>"
      ]
     },
     "execution_count": 22,
     "metadata": {},
     "output_type": "execute_result"
    },
    {
     "data": {
      "image/png": "[encoded data removed]",
      "text/plain": [
       "<Figure size 1080x720 with 1 Axes>"
      ]
     },
     "metadata": {
      "needs_background": "light"
     },
     "output_type": "display_data"
    }
   ],
   "source": [
    "ch_citeko_00_05.plot.hist(figsize=(15,10), bins=50)"
   ]
  },
  {
   "cell_type": "code",
   "execution_count": 23,
   "metadata": {
    "ExecuteTime": {
     "end_time": "2018-11-09T03:43:15.884068Z",
     "start_time": "2018-11-09T03:43:15.625985Z"
    }
   },
   "outputs": [
    {
     "data": {
      "text/plain": [
       "<matplotlib.axes._subplots.AxesSubplot at 0x1ed10eb6518>"
      ]
     },
     "execution_count": 23,
     "metadata": {},
     "output_type": "execute_result"
    },
    {
     "data": {
      "image/png": "[encoded data removed]",
      "text/plain": [
       "<Figure size 1080x720 with 1 Axes>"
      ]
     },
     "metadata": {
      "needs_background": "light"
     },
     "output_type": "display_data"
    }
   ],
   "source": [
    "stat_citeko_ch[~mask & (stat_citeko_ch > 0)].plot.hist(figsize=(15,10), bins=50)"
   ]
  },
  {
   "cell_type": "code",
   "execution_count": null,
   "metadata": {},
   "outputs": [],
   "source": []
  },
  {
   "cell_type": "code",
   "execution_count": null,
   "metadata": {},
   "outputs": [],
   "source": []
  }
 ],
 "metadata": {
  "hide_input": false,
  "kernelspec": {
   "display_name": "Python [conda env:hidrokit]",
   "language": "python",
   "name": "conda-env-hidrokit-py"
  },
  "language_info": {
   "codemirror_mode": {
    "name": "ipython",
    "version": 3
   },
   "file_extension": ".py",
   "mimetype": "text/x-python",
   "name": "python",
   "nbconvert_exporter": "python",
   "pygments_lexer": "ipython3",
   "version": "3.7.1"
  },
  "toc": {
   "base_numbering": 1,
   "nav_menu": {},
   "number_sections": true,
   "sideBar": true,
   "skip_h1_title": false,
   "title_cell": "Table of Contents",
   "title_sidebar": "Contents",
   "toc_cell": false,
   "toc_position": {},
   "toc_section_display": true,
   "toc_window_display": false
  },
  "varInspector": {
   "cols": {
    "lenName": 16,
    "lenType": 16,
    "lenVar": 40
   },
   "kernels_config": {
    "python": {
     "delete_cmd_postfix": "",
     "delete_cmd_prefix": "del ",
     "library": "var_list.py",
     "varRefreshCmd": "print(var_dic_list())"
    },
    "r": {
     "delete_cmd_postfix": ") ",
     "delete_cmd_prefix": "rm(",
     "library": "var_list.r",
     "varRefreshCmd": "cat(var_dic_list()) "
    }
   },
   "types_to_exclude": [
    "module",
    "function",
    "builtin_function_or_method",
    "instance",
    "_Feature"
   ],
   "window_display": false
  }
 },
 "nbformat": 4,
 "nbformat_minor": 2
}
