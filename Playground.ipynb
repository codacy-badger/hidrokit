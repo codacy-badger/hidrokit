{
 "cells": [
  {
   "cell_type": "code",
   "execution_count": null,
   "metadata": {
    "ExecuteTime": {
     "end_time": "2018-08-27T05:33:37.489079Z",
     "start_time": "2018-08-27T05:33:34.173552Z"
    }
   },
   "outputs": [],
   "source": [
    "import pandas as pd\n",
    "\n",
    "rawdf = pd.read_excel('xls\\\\2017preptable.xlsx')\n",
    "rawdf"
   ]
  },
  {
   "cell_type": "code",
   "execution_count": null,
   "metadata": {
    "ExecuteTime": {
     "end_time": "2018-08-27T05:45:10.128837Z",
     "start_time": "2018-08-27T05:45:10.116847Z"
    }
   },
   "outputs": [],
   "source": [
    "colmonth = ['M{}'.format(x) for x in range(1,13)]\n",
    "finaldf = pd.DataFrame({'date':[],'data':[]})\n",
    "testdf = rawdf.drop(columns=[rawdf.columns[0]], axis=1)\n",
    "testdf.columns = colmonth\n",
    "\n",
    "\n",
    "def fixmonth(data, month, year):\n",
    "    import calendar\n",
    "    m = calendar.monthrange(year, month)[1]\n",
    "    newdata = data[:31-monthrange] if not (m == 31) else data[:]\n",
    "    return newdata\n",
    "\n",
    "colix = 0\n",
    "for col in testdf:\n",
    "    check = testdf[col]\n",
    "    \n",
    "    \n",
    "    colix += 1\n",
    "\n",
    "\n",
    "\n",
    "\n",
    "\n",
    "\n"
   ]
  },
  {
   "cell_type": "code",
   "execution_count": 2,
   "metadata": {
    "ExecuteTime": {
     "end_time": "2018-08-27T05:31:54.734476Z",
     "start_time": "2018-08-27T05:31:54.710492Z"
    }
   },
   "outputs": [
    {
     "data": {
      "text/plain": [
       "ch    object\n",
       "dtype: object"
      ]
     },
     "execution_count": 2,
     "metadata": {},
     "output_type": "execute_result"
    }
   ],
   "source": [
    "import pandas as pd\n",
    "\n",
    "from dataprep import read_data_excel, transform_raw_data\n",
    "\n",
    "year = 2002\n",
    "file = \"xls\\\\example.xlsx\"\n",
    "raw_data = read_data_excel(file)\n",
    "# raw_data\n",
    "df_rain = transform_raw_data(raw_data, year)\n"
   ]
  },
  {
   "cell_type": "code",
   "execution_count": null,
   "metadata": {},
   "outputs": [],
   "source": []
  }
 ],
 "metadata": {
  "kernelspec": {
   "display_name": "Python [default]",
   "language": "python",
   "name": "python3"
  },
  "language_info": {
   "codemirror_mode": {
    "name": "ipython",
    "version": 3
   },
   "file_extension": ".py",
   "mimetype": "text/x-python",
   "name": "python",
   "nbconvert_exporter": "python",
   "pygments_lexer": "ipython3",
   "version": "3.6.5"
  },
  "toc": {
   "base_numbering": 1,
   "nav_menu": {},
   "number_sections": true,
   "sideBar": true,
   "skip_h1_title": false,
   "title_cell": "Table of Contents",
   "title_sidebar": "Contents",
   "toc_cell": false,
   "toc_position": {},
   "toc_section_display": true,
   "toc_window_display": false
  }
 },
 "nbformat": 4,
 "nbformat_minor": 2
}
