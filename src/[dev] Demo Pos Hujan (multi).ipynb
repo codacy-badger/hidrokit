{
 "cells": [
  {
   "cell_type": "markdown",
   "metadata": {},
   "source": [
    "# Demo Pos Hujan (Lanjutan)\n",
    "\n",
    "---\n",
    "\n",
    "Demo ini belum termasuk pada `prepkit`, dan merupakan _playground_ untuk pengolahan data dengan dokumen lebih dari satu (baik dalam folder atau _scan_ file `.xls` atau `.xlsx`)"
   ]
  },
  {
   "cell_type": "code",
   "execution_count": 1,
   "metadata": {
    "ExecuteTime": {
     "end_time": "2018-10-12T13:57:27.674538Z",
     "start_time": "2018-10-12T13:57:20.873840Z"
    }
   },
   "outputs": [],
   "source": [
    "import numpy as np\n",
    "import pandas as pd\n",
    "import matplotlib.pyplot as plt\n",
    "import seaborn as sns\n",
    "import pathlib\n",
    "from hidrokit import prepkit, viewkit\n",
    "%matplotlib inline"
   ]
  },
  {
   "cell_type": "code",
   "execution_count": 2,
   "metadata": {
    "ExecuteTime": {
     "end_time": "2018-10-12T13:57:27.874686Z",
     "start_time": "2018-10-12T13:57:27.677531Z"
    }
   },
   "outputs": [],
   "source": [
    "%load_ext autoreload\n",
    "%aimport hidrokit\n",
    "%autoreload 2"
   ]
  },
  {
   "cell_type": "code",
   "execution_count": 3,
   "metadata": {
    "ExecuteTime": {
     "end_time": "2018-10-12T14:37:36.812710Z",
     "start_time": "2018-10-12T14:37:36.048178Z"
    }
   },
   "outputs": [
    {
     "name": "stdout",
     "output_type": "stream",
     "text": [
      "2000 TANJUNGBARU1 --> 2001 TANJUNGBARU2 --> 2002 COBACOBA --> 2003 TANJUNGBARU3 --> 2004 TANJUNGBARU1 --> 2005 TANJUNGBARU2 --> 2006 TANJUNGBARU3 --> 2007 TANJUNGBARU1 --> 2008 TANJUNGBARU2 --> 2010 TANJUNGBARU3 --> 2011 TANJUNGBARU --> 2012 TANJUNGBARU --> 2013 TANJUNGBARU --> 2014 TANJUNGBARU --> 2015 TANJUNGBARU --> 2016 TANJUNGBARU --> "
     ]
    }
   ],
   "source": [
    "folderph = pathlib.Path('../testdata/xls/fmderi/PHTANJUNGBARU/')\n",
    "isdir = folderph.is_dir()\n",
    "form_ = 'phderi'\n",
    "\n",
    "list_data = []\n",
    "test_df = pd.DataFrame()\n",
    "if isdir:\n",
    "    for file in folderph.glob('*.xls*'):\n",
    "#         print(f'Start {file} ...')\n",
    "        rawdf = prepkit.get_rawdf(file)\n",
    "        year = prepkit.sc_getyear(file)\n",
    "        name = prepkit.sc_getname(file)\n",
    "        print(f'{year} {name}',end=' --> ')\n",
    "        findf = prepkit.tf_rawdf(rawdf, year, name)\n",
    "        list_data.append(findf)\n",
    "\n",
    "# folderdf = pd.concat(list_data, axis=1, sort=False)\n",
    "# folderdf"
   ]
  },
  {
   "cell_type": "code",
   "execution_count": 4,
   "metadata": {
    "ExecuteTime": {
     "end_time": "2018-10-12T14:37:42.101117Z",
     "start_time": "2018-10-12T14:37:41.929220Z"
    }
   },
   "outputs": [],
   "source": [
    "a, b, c, d, e = list_data[:5]"
   ]
  },
  {
   "cell_type": "code",
   "execution_count": 5,
   "metadata": {
    "ExecuteTime": {
     "end_time": "2018-10-12T14:38:01.741964Z",
     "start_time": "2018-10-12T14:38:01.518922Z"
    }
   },
   "outputs": [
    {
     "data": {
      "text/plain": [
       "(5845, 5)"
      ]
     },
     "execution_count": 5,
     "metadata": {},
     "output_type": "execute_result"
    }
   ],
   "source": [
    "pd.concat(list_data, axis=0, sort=False).shape"
   ]
  },
  {
   "cell_type": "code",
   "execution_count": null,
   "metadata": {},
   "outputs": [],
   "source": []
  }
 ],
 "metadata": {
  "hide_input": false,
  "kernelspec": {
   "display_name": "Python [conda env:hidrokit]",
   "language": "python",
   "name": "conda-env-hidrokit-py"
  },
  "language_info": {
   "codemirror_mode": {
    "name": "ipython",
    "version": 3
   },
   "file_extension": ".py",
   "mimetype": "text/x-python",
   "name": "python",
   "nbconvert_exporter": "python",
   "pygments_lexer": "ipython3",
   "version": "3.7.1"
  },
  "toc": {
   "base_numbering": 1,
   "nav_menu": {},
   "number_sections": true,
   "sideBar": true,
   "skip_h1_title": false,
   "title_cell": "Table of Contents",
   "title_sidebar": "Contents",
   "toc_cell": false,
   "toc_position": {},
   "toc_section_display": true,
   "toc_window_display": false
  },
  "varInspector": {
   "cols": {
    "lenName": 16,
    "lenType": 16,
    "lenVar": 40
   },
   "kernels_config": {
    "python": {
     "delete_cmd_postfix": "",
     "delete_cmd_prefix": "del ",
     "library": "var_list.py",
     "varRefreshCmd": "print(var_dic_list())"
    },
    "r": {
     "delete_cmd_postfix": ") ",
     "delete_cmd_prefix": "rm(",
     "library": "var_list.r",
     "varRefreshCmd": "cat(var_dic_list()) "
    }
   },
   "types_to_exclude": [
    "module",
    "function",
    "builtin_function_or_method",
    "instance",
    "_Feature"
   ],
   "window_display": false
  }
 },
 "nbformat": 4,
 "nbformat_minor": 2
}
