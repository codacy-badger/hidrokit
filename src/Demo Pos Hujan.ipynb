{
 "cells": [
  {
   "cell_type": "markdown",
   "metadata": {},
   "source": [
    "# Demo Pos Hujan \n",
    "Demo penggunaan ```prepkit```, Modul `prepkit` berisikan perintah untuk melakukan persiapan data, dari data mentah (raw) sampai siap analisis. Data mentah dalam modul ini dalam berbentuk excel, untuk data mentah berjeniskan _pdf_ belum dapat dilakukan dengan mudah. Excel yang dapat dibaca juga harus sudah diketahui pola excelnya, excel yang tidak konsisten tidak disarankan langsung digunakan, lebih baik membuat format yang sudah disiapkan agar memudahkan dokumentasi dan pengelolaan lebih lanjut.\n",
    "\n",
    "Untuk data mentah, disarankan disimpan kembali dalam bentuk `.csv` dan bukan dalam `.xls`. Hal ini akan memudahkan dalam pembacaan (untuk `.xls/xlsx` perlu library yang harus diinstall lagi (`xlwt` dan `xlrw`) )\n",
    "\n",
    "----\n",
    "\n",
    "\n",
    "Notebook ini akan mendemonstrasikan penggunaan hidrokit dalam kepentingan persiapan analisis hidrologi"
   ]
  },
  {
   "cell_type": "markdown",
   "metadata": {},
   "source": [
    "## Import Library"
   ]
  },
  {
   "cell_type": "markdown",
   "metadata": {},
   "source": [
    "Melakukan import library yang akan digunakan:\n",
    "- `numpy` : library utama dalam penggunaan pandas\n",
    "- `pandas` : library untuk pengelolaan data\n",
    "- `matplotlib.pyplot` : library utama dalam penggunaan plot\n",
    "- `seaborn` : library tambahan untuk plotting\n",
    "- `pathlib` : built-in library untuk navigasi sistem\n",
    "- `prepkit` : module untuk persiapan pengelolaan data"
   ]
  },
  {
   "cell_type": "code",
   "execution_count": 2,
   "metadata": {
    "ExecuteTime": {
     "end_time": "2018-10-12T04:54:16.302350Z",
     "start_time": "2018-10-12T04:54:02.671880Z"
    }
   },
   "outputs": [],
   "source": [
    "import numpy as np\n",
    "import pandas as pd\n",
    "import matplotlib.pyplot as plt\n",
    "import seaborn as sns\n",
    "import pathlib\n",
    "import prepkit\n",
    "%matplotlib inline"
   ]
  },
  {
   "cell_type": "code",
   "execution_count": 3,
   "metadata": {
    "ExecuteTime": {
     "end_time": "2018-10-12T04:54:16.576569Z",
     "start_time": "2018-10-12T04:54:16.350324Z"
    }
   },
   "outputs": [],
   "source": [
    "%load_ext autoreload\n",
    "%autoreload 2\n",
    "%aimport prepkit"
   ]
  },
  {
   "cell_type": "markdown",
   "metadata": {},
   "source": [
    "## Menentukan dokumen\n",
    "\n",
    "Dokumen dapat berupa _single file_ atau dalam bentuk _folder_. Test data yang digunakan adalah data pos hujan yang saya peroleh dari deri, formatnya saya sebut `'phderi'` untuk singkatan dari `'pos hujan-deri'`. `format='phderi'` merupakan nilai default untuk setiap proses. "
   ]
  },
  {
   "cell_type": "code",
   "execution_count": 98,
   "metadata": {
    "ExecuteTime": {
     "end_time": "2018-10-12T05:52:45.634332Z",
     "start_time": "2018-10-12T05:52:45.367497Z"
    }
   },
   "outputs": [
    {
     "data": {
      "text/html": [
       "<div>\n",
       "<style scoped>\n",
       "    .dataframe tbody tr th:only-of-type {\n",
       "        vertical-align: middle;\n",
       "    }\n",
       "\n",
       "    .dataframe tbody tr th {\n",
       "        vertical-align: top;\n",
       "    }\n",
       "\n",
       "    .dataframe thead th {\n",
       "        text-align: right;\n",
       "    }\n",
       "</style>\n",
       "<table border=\"1\" class=\"dataframe\">\n",
       "  <thead>\n",
       "    <tr style=\"text-align: right;\">\n",
       "      <th></th>\n",
       "      <th>2</th>\n",
       "      <th>3</th>\n",
       "      <th>4</th>\n",
       "      <th>5</th>\n",
       "      <th>6</th>\n",
       "      <th>7</th>\n",
       "      <th>8</th>\n",
       "      <th>9</th>\n",
       "      <th>10</th>\n",
       "      <th>11</th>\n",
       "      <th>12</th>\n",
       "      <th>13</th>\n",
       "    </tr>\n",
       "  </thead>\n",
       "  <tbody>\n",
       "    <tr>\n",
       "      <th>14</th>\n",
       "      <td>-</td>\n",
       "      <td>70.3</td>\n",
       "      <td>19.3</td>\n",
       "      <td>-</td>\n",
       "      <td>17.3</td>\n",
       "      <td>-</td>\n",
       "      <td>-</td>\n",
       "      <td>48</td>\n",
       "      <td>-</td>\n",
       "      <td>-</td>\n",
       "      <td>80</td>\n",
       "      <td>45.5</td>\n",
       "    </tr>\n",
       "    <tr>\n",
       "      <th>15</th>\n",
       "      <td>30</td>\n",
       "      <td>21.5</td>\n",
       "      <td>0.8</td>\n",
       "      <td>0.07</td>\n",
       "      <td>10.6</td>\n",
       "      <td>106.5</td>\n",
       "      <td>-</td>\n",
       "      <td>1.8</td>\n",
       "      <td>-</td>\n",
       "      <td>-</td>\n",
       "      <td>0.2</td>\n",
       "      <td>0.8</td>\n",
       "    </tr>\n",
       "    <tr>\n",
       "      <th>16</th>\n",
       "      <td>-</td>\n",
       "      <td>9</td>\n",
       "      <td>5.2</td>\n",
       "      <td>-</td>\n",
       "      <td>0.4</td>\n",
       "      <td>-</td>\n",
       "      <td>-</td>\n",
       "      <td>-</td>\n",
       "      <td>-</td>\n",
       "      <td>-</td>\n",
       "      <td>6.5</td>\n",
       "      <td>58.3</td>\n",
       "    </tr>\n",
       "    <tr>\n",
       "      <th>17</th>\n",
       "      <td>-</td>\n",
       "      <td>21.9</td>\n",
       "      <td>-</td>\n",
       "      <td>-</td>\n",
       "      <td>-</td>\n",
       "      <td>-</td>\n",
       "      <td>-</td>\n",
       "      <td>-</td>\n",
       "      <td>-</td>\n",
       "      <td>-</td>\n",
       "      <td>-</td>\n",
       "      <td>40</td>\n",
       "    </tr>\n",
       "    <tr>\n",
       "      <th>18</th>\n",
       "      <td>5.2</td>\n",
       "      <td>-</td>\n",
       "      <td>-</td>\n",
       "      <td>15</td>\n",
       "      <td>19.8</td>\n",
       "      <td>-</td>\n",
       "      <td>-</td>\n",
       "      <td>-</td>\n",
       "      <td>-</td>\n",
       "      <td>-</td>\n",
       "      <td>39.5</td>\n",
       "      <td>8.7</td>\n",
       "    </tr>\n",
       "    <tr>\n",
       "      <th>19</th>\n",
       "      <td>-</td>\n",
       "      <td>51.6</td>\n",
       "      <td>-</td>\n",
       "      <td>8.5</td>\n",
       "      <td>16.2</td>\n",
       "      <td>-</td>\n",
       "      <td>-</td>\n",
       "      <td>-</td>\n",
       "      <td>-</td>\n",
       "      <td>-</td>\n",
       "      <td>6.3</td>\n",
       "      <td>-</td>\n",
       "    </tr>\n",
       "    <tr>\n",
       "      <th>20</th>\n",
       "      <td>4.3</td>\n",
       "      <td>-</td>\n",
       "      <td>-</td>\n",
       "      <td>-</td>\n",
       "      <td>25.5</td>\n",
       "      <td>10</td>\n",
       "      <td>31.5</td>\n",
       "      <td>8.2</td>\n",
       "      <td>-</td>\n",
       "      <td>-</td>\n",
       "      <td>5</td>\n",
       "      <td>25</td>\n",
       "    </tr>\n",
       "    <tr>\n",
       "      <th>21</th>\n",
       "      <td>-</td>\n",
       "      <td>-</td>\n",
       "      <td>31.9</td>\n",
       "      <td>-</td>\n",
       "      <td>-</td>\n",
       "      <td>-</td>\n",
       "      <td>-</td>\n",
       "      <td>-</td>\n",
       "      <td>2</td>\n",
       "      <td>-</td>\n",
       "      <td>36</td>\n",
       "      <td>3</td>\n",
       "    </tr>\n",
       "    <tr>\n",
       "      <th>22</th>\n",
       "      <td>9.5</td>\n",
       "      <td>16.8</td>\n",
       "      <td>26.4</td>\n",
       "      <td>19.8</td>\n",
       "      <td>30.2</td>\n",
       "      <td>1.2</td>\n",
       "      <td>-</td>\n",
       "      <td>-</td>\n",
       "      <td>-</td>\n",
       "      <td>-</td>\n",
       "      <td>63.2</td>\n",
       "      <td>31.8</td>\n",
       "    </tr>\n",
       "    <tr>\n",
       "      <th>23</th>\n",
       "      <td>-</td>\n",
       "      <td>75.3</td>\n",
       "      <td>-</td>\n",
       "      <td>-</td>\n",
       "      <td>-</td>\n",
       "      <td>-</td>\n",
       "      <td>-</td>\n",
       "      <td>-</td>\n",
       "      <td>-</td>\n",
       "      <td>-</td>\n",
       "      <td>89.4</td>\n",
       "      <td>48.5</td>\n",
       "    </tr>\n",
       "    <tr>\n",
       "      <th>24</th>\n",
       "      <td>-</td>\n",
       "      <td>-</td>\n",
       "      <td>48</td>\n",
       "      <td>62.5</td>\n",
       "      <td>167.4</td>\n",
       "      <td>-</td>\n",
       "      <td>9.3</td>\n",
       "      <td>15</td>\n",
       "      <td>-</td>\n",
       "      <td>-</td>\n",
       "      <td>81</td>\n",
       "      <td>NaN</td>\n",
       "    </tr>\n",
       "    <tr>\n",
       "      <th>25</th>\n",
       "      <td>-</td>\n",
       "      <td>39</td>\n",
       "      <td>-</td>\n",
       "      <td>-</td>\n",
       "      <td>59</td>\n",
       "      <td>-</td>\n",
       "      <td>-</td>\n",
       "      <td>2.3</td>\n",
       "      <td>3.5</td>\n",
       "      <td>-</td>\n",
       "      <td>19.5</td>\n",
       "      <td>53</td>\n",
       "    </tr>\n",
       "    <tr>\n",
       "      <th>26</th>\n",
       "      <td>-</td>\n",
       "      <td>-</td>\n",
       "      <td>92.5</td>\n",
       "      <td>-</td>\n",
       "      <td>-</td>\n",
       "      <td>-</td>\n",
       "      <td>-</td>\n",
       "      <td>110.8</td>\n",
       "      <td>-</td>\n",
       "      <td>-</td>\n",
       "      <td>23</td>\n",
       "      <td>41.8</td>\n",
       "    </tr>\n",
       "    <tr>\n",
       "      <th>27</th>\n",
       "      <td>28.7</td>\n",
       "      <td>-</td>\n",
       "      <td>-</td>\n",
       "      <td>-</td>\n",
       "      <td>-</td>\n",
       "      <td>-</td>\n",
       "      <td>2</td>\n",
       "      <td>2</td>\n",
       "      <td>-</td>\n",
       "      <td>-</td>\n",
       "      <td>0.3</td>\n",
       "      <td>9.3</td>\n",
       "    </tr>\n",
       "    <tr>\n",
       "      <th>28</th>\n",
       "      <td>-</td>\n",
       "      <td>-</td>\n",
       "      <td>18.4</td>\n",
       "      <td>-</td>\n",
       "      <td>8.3</td>\n",
       "      <td>1</td>\n",
       "      <td>-</td>\n",
       "      <td>-</td>\n",
       "      <td>-</td>\n",
       "      <td>-</td>\n",
       "      <td>-</td>\n",
       "      <td>50.2</td>\n",
       "    </tr>\n",
       "    <tr>\n",
       "      <th>29</th>\n",
       "      <td>29.4</td>\n",
       "      <td>-</td>\n",
       "      <td>-</td>\n",
       "      <td>-</td>\n",
       "      <td>-</td>\n",
       "      <td>-</td>\n",
       "      <td>35.2</td>\n",
       "      <td>-</td>\n",
       "      <td>-</td>\n",
       "      <td>-</td>\n",
       "      <td>30.5</td>\n",
       "      <td>16.5</td>\n",
       "    </tr>\n",
       "    <tr>\n",
       "      <th>30</th>\n",
       "      <td>-</td>\n",
       "      <td>27.5</td>\n",
       "      <td>-</td>\n",
       "      <td>41.3</td>\n",
       "      <td>16.5</td>\n",
       "      <td>-</td>\n",
       "      <td>16</td>\n",
       "      <td>-</td>\n",
       "      <td>-</td>\n",
       "      <td>-</td>\n",
       "      <td>42</td>\n",
       "      <td>41.8</td>\n",
       "    </tr>\n",
       "    <tr>\n",
       "      <th>31</th>\n",
       "      <td>21.5</td>\n",
       "      <td>-</td>\n",
       "      <td>23.5</td>\n",
       "      <td>-</td>\n",
       "      <td>-</td>\n",
       "      <td>-</td>\n",
       "      <td>58.7</td>\n",
       "      <td>77.3</td>\n",
       "      <td>-</td>\n",
       "      <td>6.5</td>\n",
       "      <td>-</td>\n",
       "      <td>-</td>\n",
       "    </tr>\n",
       "    <tr>\n",
       "      <th>32</th>\n",
       "      <td>-</td>\n",
       "      <td>-</td>\n",
       "      <td>-</td>\n",
       "      <td>10</td>\n",
       "      <td>15.9</td>\n",
       "      <td>-</td>\n",
       "      <td>-</td>\n",
       "      <td>-</td>\n",
       "      <td>-</td>\n",
       "      <td>-</td>\n",
       "      <td>3.8</td>\n",
       "      <td>9</td>\n",
       "    </tr>\n",
       "    <tr>\n",
       "      <th>33</th>\n",
       "      <td>9.7</td>\n",
       "      <td>-</td>\n",
       "      <td>80.3</td>\n",
       "      <td>-</td>\n",
       "      <td>-</td>\n",
       "      <td>-</td>\n",
       "      <td>13.2</td>\n",
       "      <td>9.8</td>\n",
       "      <td>-</td>\n",
       "      <td>-</td>\n",
       "      <td>-</td>\n",
       "      <td>7.3</td>\n",
       "    </tr>\n",
       "    <tr>\n",
       "      <th>34</th>\n",
       "      <td>-</td>\n",
       "      <td>-</td>\n",
       "      <td>75</td>\n",
       "      <td>11.4</td>\n",
       "      <td>11</td>\n",
       "      <td>-</td>\n",
       "      <td>-</td>\n",
       "      <td>40.2</td>\n",
       "      <td>-</td>\n",
       "      <td>1.8</td>\n",
       "      <td>18</td>\n",
       "      <td>-</td>\n",
       "    </tr>\n",
       "    <tr>\n",
       "      <th>35</th>\n",
       "      <td>-</td>\n",
       "      <td>8</td>\n",
       "      <td>102</td>\n",
       "      <td>-</td>\n",
       "      <td>32.5</td>\n",
       "      <td>-</td>\n",
       "      <td>-</td>\n",
       "      <td>15</td>\n",
       "      <td>-</td>\n",
       "      <td>-</td>\n",
       "      <td>-</td>\n",
       "      <td>38.5</td>\n",
       "    </tr>\n",
       "    <tr>\n",
       "      <th>36</th>\n",
       "      <td>-</td>\n",
       "      <td>-</td>\n",
       "      <td>-</td>\n",
       "      <td>7</td>\n",
       "      <td>-</td>\n",
       "      <td>-</td>\n",
       "      <td>-</td>\n",
       "      <td>23.7</td>\n",
       "      <td>-</td>\n",
       "      <td>-</td>\n",
       "      <td>23.7</td>\n",
       "      <td>14.8</td>\n",
       "    </tr>\n",
       "    <tr>\n",
       "      <th>37</th>\n",
       "      <td>15.4</td>\n",
       "      <td>-</td>\n",
       "      <td>-</td>\n",
       "      <td>24</td>\n",
       "      <td>-</td>\n",
       "      <td>-</td>\n",
       "      <td>14.2</td>\n",
       "      <td>-</td>\n",
       "      <td>-</td>\n",
       "      <td>-</td>\n",
       "      <td>-</td>\n",
       "      <td>-</td>\n",
       "    </tr>\n",
       "    <tr>\n",
       "      <th>38</th>\n",
       "      <td>-</td>\n",
       "      <td>4.5</td>\n",
       "      <td>5.2</td>\n",
       "      <td>-</td>\n",
       "      <td>-</td>\n",
       "      <td>5.5</td>\n",
       "      <td>-</td>\n",
       "      <td>5</td>\n",
       "      <td>-</td>\n",
       "      <td>-</td>\n",
       "      <td>17.5</td>\n",
       "      <td>0.3</td>\n",
       "    </tr>\n",
       "    <tr>\n",
       "      <th>39</th>\n",
       "      <td>-</td>\n",
       "      <td>-</td>\n",
       "      <td>-</td>\n",
       "      <td>18.3</td>\n",
       "      <td>-</td>\n",
       "      <td>6</td>\n",
       "      <td>-</td>\n",
       "      <td>4</td>\n",
       "      <td>-</td>\n",
       "      <td>-</td>\n",
       "      <td>-</td>\n",
       "      <td>-</td>\n",
       "    </tr>\n",
       "    <tr>\n",
       "      <th>40</th>\n",
       "      <td>-</td>\n",
       "      <td>9.4</td>\n",
       "      <td>4.5</td>\n",
       "      <td>9.5</td>\n",
       "      <td>17.7</td>\n",
       "      <td>170.5</td>\n",
       "      <td>-</td>\n",
       "      <td>-</td>\n",
       "      <td>14</td>\n",
       "      <td>-</td>\n",
       "      <td>0.9</td>\n",
       "      <td>-</td>\n",
       "    </tr>\n",
       "    <tr>\n",
       "      <th>41</th>\n",
       "      <td>-</td>\n",
       "      <td>18.6</td>\n",
       "      <td>7.8</td>\n",
       "      <td>-</td>\n",
       "      <td>-</td>\n",
       "      <td>-</td>\n",
       "      <td>2.5</td>\n",
       "      <td>-</td>\n",
       "      <td>219</td>\n",
       "      <td>-</td>\n",
       "      <td>30.4</td>\n",
       "      <td>-</td>\n",
       "    </tr>\n",
       "    <tr>\n",
       "      <th>42</th>\n",
       "      <td>-</td>\n",
       "      <td>-</td>\n",
       "      <td>19</td>\n",
       "      <td>35</td>\n",
       "      <td>20</td>\n",
       "      <td>-</td>\n",
       "      <td>17.8</td>\n",
       "      <td>-</td>\n",
       "      <td>4</td>\n",
       "      <td>-</td>\n",
       "      <td>102.5</td>\n",
       "      <td>-</td>\n",
       "    </tr>\n",
       "    <tr>\n",
       "      <th>43</th>\n",
       "      <td>28.5</td>\n",
       "      <td>NaN</td>\n",
       "      <td>3.6</td>\n",
       "      <td>78.4</td>\n",
       "      <td>18.6</td>\n",
       "      <td>-</td>\n",
       "      <td>-</td>\n",
       "      <td>-</td>\n",
       "      <td>-</td>\n",
       "      <td>12.5</td>\n",
       "      <td>-</td>\n",
       "      <td>-</td>\n",
       "    </tr>\n",
       "    <tr>\n",
       "      <th>44</th>\n",
       "      <td>0.8</td>\n",
       "      <td>NaN</td>\n",
       "      <td>-</td>\n",
       "      <td>NaN</td>\n",
       "      <td>-</td>\n",
       "      <td>NaN</td>\n",
       "      <td>-</td>\n",
       "      <td>-</td>\n",
       "      <td>NaN</td>\n",
       "      <td>-</td>\n",
       "      <td>NaN</td>\n",
       "      <td>56.56</td>\n",
       "    </tr>\n",
       "  </tbody>\n",
       "</table>\n",
       "</div>"
      ],
      "text/plain": [
       "      2     3     4     5      6      7     8      9    10    11     12     13\n",
       "14     -  70.3  19.3     -   17.3      -     -     48    -     -     80   45.5\n",
       "15    30  21.5   0.8  0.07   10.6  106.5     -    1.8    -     -    0.2    0.8\n",
       "16     -     9   5.2     -    0.4      -     -      -    -     -    6.5   58.3\n",
       "17     -  21.9     -     -      -      -     -      -    -     -      -     40\n",
       "18   5.2     -     -    15   19.8      -     -      -    -     -   39.5    8.7\n",
       "19     -  51.6     -   8.5   16.2      -     -      -    -     -    6.3      -\n",
       "20   4.3     -     -     -   25.5     10  31.5    8.2    -     -      5     25\n",
       "21     -     -  31.9     -      -      -     -      -    2     -     36      3\n",
       "22   9.5  16.8  26.4  19.8   30.2    1.2     -      -    -     -   63.2   31.8\n",
       "23     -  75.3     -     -      -      -     -      -    -     -   89.4   48.5\n",
       "24     -     -    48  62.5  167.4      -   9.3     15    -     -     81    NaN\n",
       "25     -    39     -     -     59      -     -    2.3  3.5     -   19.5     53\n",
       "26     -     -  92.5     -      -      -     -  110.8    -     -     23   41.8\n",
       "27  28.7     -     -     -      -      -     2      2    -     -    0.3    9.3\n",
       "28     -     -  18.4     -    8.3      1     -      -    -     -      -   50.2\n",
       "29  29.4     -     -     -      -      -  35.2      -    -     -   30.5   16.5\n",
       "30     -  27.5     -  41.3   16.5      -    16      -    -     -     42   41.8\n",
       "31  21.5     -  23.5     -      -      -  58.7   77.3    -   6.5      -      -\n",
       "32     -     -     -    10   15.9      -     -      -    -     -    3.8      9\n",
       "33   9.7     -  80.3     -      -      -  13.2    9.8    -     -      -    7.3\n",
       "34     -     -    75  11.4     11      -     -   40.2    -   1.8     18      -\n",
       "35     -     8   102     -   32.5      -     -     15    -     -      -   38.5\n",
       "36     -     -     -     7      -      -     -   23.7    -     -   23.7   14.8\n",
       "37  15.4     -     -    24      -      -  14.2      -    -     -      -      -\n",
       "38     -   4.5   5.2     -      -    5.5     -      5    -     -   17.5    0.3\n",
       "39     -     -     -  18.3      -      6     -      4    -     -      -      -\n",
       "40     -   9.4   4.5   9.5   17.7  170.5     -      -   14     -    0.9      -\n",
       "41     -  18.6   7.8     -      -      -   2.5      -  219     -   30.4      -\n",
       "42     -     -    19    35     20      -  17.8      -    4     -  102.5      -\n",
       "43  28.5   NaN   3.6  78.4   18.6      -     -      -    -  12.5      -      -\n",
       "44   0.8   NaN     -   NaN      -    NaN     -      -  NaN     -    NaN  56.56"
      ]
     },
     "execution_count": 98,
     "metadata": {},
     "output_type": "execute_result"
    }
   ],
   "source": [
    "dokumen = '../testdata/xls/fmderi/PHTANJUNGBARU/2016 HUJAN TANJUNG BARU.xls'\n",
    "rawxl = prepkit.get"
   ]
  },
  {
   "cell_type": "code",
   "execution_count": 79,
   "metadata": {
    "ExecuteTime": {
     "end_time": "2018-10-12T05:38:08.307311Z",
     "start_time": "2018-10-12T05:38:08.087444Z"
    }
   },
   "outputs": [
    {
     "ename": "Exception",
     "evalue": "Format tidak sesuai dengan phderi",
     "output_type": "error",
     "traceback": [
      "\u001b[1;31m---------------------------------------------------------------------------\u001b[0m",
      "\u001b[1;31mException\u001b[0m                                 Traceback (most recent call last)",
      "\u001b[1;32m<ipython-input-79-39da69a580f3>\u001b[0m in \u001b[0;36m<module>\u001b[1;34m()\u001b[0m\n\u001b[0;32m     18\u001b[0m     \u001b[1;32mpass\u001b[0m\u001b[1;33m\u001b[0m\u001b[0m\n\u001b[0;32m     19\u001b[0m \u001b[1;32melse\u001b[0m\u001b[1;33m:\u001b[0m\u001b[1;33m\u001b[0m\u001b[0m\n\u001b[1;32m---> 20\u001b[1;33m     \u001b[1;32mraise\u001b[0m \u001b[0mException\u001b[0m\u001b[1;33m(\u001b[0m\u001b[1;34mf'Format tidak sesuai dengan {formxl}'\u001b[0m\u001b[1;33m)\u001b[0m\u001b[1;33m\u001b[0m\u001b[0m\n\u001b[0m",
      "\u001b[1;31mException\u001b[0m: Format tidak sesuai dengan phderi"
     ]
    }
   ],
   "source": [
    "rawxl\n"
   ]
  },
  {
   "cell_type": "code",
   "execution_count": null,
   "metadata": {},
   "outputs": [],
   "source": []
  },
  {
   "cell_type": "code",
   "execution_count": null,
   "metadata": {},
   "outputs": [],
   "source": []
  },
  {
   "cell_type": "code",
   "execution_count": null,
   "metadata": {},
   "outputs": [],
   "source": []
  },
  {
   "cell_type": "code",
   "execution_count": null,
   "metadata": {},
   "outputs": [],
   "source": []
  },
  {
   "cell_type": "code",
   "execution_count": null,
   "metadata": {},
   "outputs": [],
   "source": []
  },
  {
   "cell_type": "code",
   "execution_count": null,
   "metadata": {
    "ExecuteTime": {
     "end_time": "2018-10-09T08:41:24.385707Z",
     "start_time": "2018-10-09T08:41:24.121873Z"
    }
   },
   "outputs": [],
   "source": [
    "b['year'] = b.index.year\n",
    "b['day'] = b.index.day\n",
    "b['month'] = b.index.month\n",
    "c = b.pivot(index='day',columns='month',values='ch')\n",
    "c[c == 0] = '-'\n",
    "c"
   ]
  },
  {
   "cell_type": "code",
   "execution_count": null,
   "metadata": {
    "ExecuteTime": {
     "end_time": "2018-10-09T08:14:00.961728Z",
     "start_time": "2018-10-09T08:14:00.749814Z"
    }
   },
   "outputs": [],
   "source": [
    "b"
   ]
  },
  {
   "cell_type": "code",
   "execution_count": null,
   "metadata": {
    "ExecuteTime": {
     "end_time": "2018-10-09T08:13:06.651802Z",
     "start_time": "2018-10-09T08:13:06.423610Z"
    }
   },
   "outputs": [],
   "source": [
    "b"
   ]
  },
  {
   "cell_type": "markdown",
   "metadata": {},
   "source": [
    "## 1.2 Tes"
   ]
  },
  {
   "cell_type": "code",
   "execution_count": null,
   "metadata": {
    "ExecuteTime": {
     "end_time": "2018-10-12T02:24:39.933993Z",
     "start_time": "2018-10-12T02:24:39.739111Z"
    }
   },
   "outputs": [],
   "source": [
    "file = pathlib.Path('../testdata/xls/fmderi/PHTANJUNGBARU/2006 HUJAN TANJUNG BARU.xls')"
   ]
  },
  {
   "cell_type": "code",
   "execution_count": null,
   "metadata": {
    "ExecuteTime": {
     "end_time": "2018-10-12T02:25:08.475090Z",
     "start_time": "2018-10-12T02:25:08.243235Z"
    }
   },
   "outputs": [],
   "source": [
    "dfhujan = prepkit.get_rawdf(file, format='phderi')\n",
    "dfhujan"
   ]
  },
  {
   "cell_type": "code",
   "execution_count": null,
   "metadata": {
    "ExecuteTime": {
     "end_time": "2018-10-12T02:28:16.973375Z",
     "start_time": "2018-10-12T02:28:16.582038Z"
    }
   },
   "outputs": [],
   "source": [
    "dffinal = prepkit.tf_rawdf(dfhujan, 2006)\n",
    "final = dffinal['20060101':'20060201'][:-1]\n",
    "final.to_csv('final.csv')"
   ]
  },
  {
   "cell_type": "code",
   "execution_count": null,
   "metadata": {
    "ExecuteTime": {
     "end_time": "2018-10-12T02:28:49.589963Z",
     "start_time": "2018-10-12T02:28:49.387088Z"
    }
   },
   "outputs": [],
   "source": [
    "dffinal.info()"
   ]
  },
  {
   "cell_type": "code",
   "execution_count": null,
   "metadata": {
    "ExecuteTime": {
     "end_time": "2018-10-12T02:29:15.325716Z",
     "start_time": "2018-10-12T02:29:15.106849Z"
    }
   },
   "outputs": [],
   "source": [
    "dffinal[dffinal == '-'] = 0."
   ]
  },
  {
   "cell_type": "code",
   "execution_count": null,
   "metadata": {
    "ExecuteTime": {
     "end_time": "2018-10-12T02:29:24.896395Z",
     "start_time": "2018-10-12T02:29:23.961893Z"
    }
   },
   "outputs": [],
   "source": [
    "dffinal.plot()"
   ]
  },
  {
   "cell_type": "code",
   "execution_count": null,
   "metadata": {
    "ExecuteTime": {
     "end_time": "2018-10-12T02:32:18.271253Z",
     "start_time": "2018-10-12T02:32:18.084368Z"
    }
   },
   "outputs": [],
   "source": [
    "dffinal['ch'] = pd.to_numeric(dffinal['ch'])"
   ]
  },
  {
   "cell_type": "code",
   "execution_count": null,
   "metadata": {
    "ExecuteTime": {
     "end_time": "2018-10-12T02:32:26.553096Z",
     "start_time": "2018-10-12T02:32:26.352219Z"
    }
   },
   "outputs": [],
   "source": [
    "dffinal.info()"
   ]
  },
  {
   "cell_type": "code",
   "execution_count": null,
   "metadata": {
    "ExecuteTime": {
     "end_time": "2018-10-12T02:32:55.580048Z",
     "start_time": "2018-10-12T02:32:55.403150Z"
    }
   },
   "outputs": [],
   "source": [
    "dffinal['ch'].describe()"
   ]
  },
  {
   "cell_type": "code",
   "execution_count": null,
   "metadata": {
    "ExecuteTime": {
     "end_time": "2018-10-12T02:34:59.309469Z",
     "start_time": "2018-10-12T02:34:59.114482Z"
    }
   },
   "outputs": [],
   "source": [
    "dffinal['ch'][(dffinal['ch'] >= 10) & (dffinal['ch'] <= 30)].to_csv('data30.csv')"
   ]
  },
  {
   "cell_type": "code",
   "execution_count": null,
   "metadata": {
    "ExecuteTime": {
     "end_time": "2018-10-12T02:36:12.585492Z",
     "start_time": "2018-10-12T02:36:12.402586Z"
    }
   },
   "outputs": [],
   "source": [
    "dffinal['month'] = dffinal.index.month\n",
    "dffinal['dayofweek'] = dffinal.index.dayofweek"
   ]
  },
  {
   "cell_type": "code",
   "execution_count": null,
   "metadata": {
    "ExecuteTime": {
     "end_time": "2018-10-12T02:36:14.832170Z",
     "start_time": "2018-10-12T02:36:14.619553Z"
    }
   },
   "outputs": [],
   "source": [
    "dffinal."
   ]
  },
  {
   "cell_type": "code",
   "execution_count": null,
   "metadata": {
    "ExecuteTime": {
     "end_time": "2018-10-12T02:37:26.209324Z",
     "start_time": "2018-10-12T02:37:25.976431Z"
    }
   },
   "outputs": [],
   "source": [
    "# b.pivot(index='day',columns='month',values='ch')\n",
    "dffinal['day'] = dffinal.index.day\n",
    "defdffinal"
   ]
  },
  {
   "cell_type": "code",
   "execution_count": null,
   "metadata": {
    "ExecuteTime": {
     "end_time": "2018-10-12T02:41:23.045664Z",
     "start_time": "2018-10-12T02:41:22.810808Z"
    }
   },
   "outputs": [],
   "source": [
    "def ubah_ke_pivot(dataframe, baris='day', kolom='month', stasiun='ch'):\n",
    "    return dataframe.pivot(index='day', columns='month', values='ch')\n",
    "\n",
    "a = ubah_ke_pivot(dffinal, baris='day', kolom='bulan', stasiun='ch')\n",
    "a"
   ]
  },
  {
   "cell_type": "code",
   "execution_count": null,
   "metadata": {
    "ExecuteTime": {
     "end_time": "2018-10-12T02:41:42.842390Z",
     "start_time": "2018-10-12T02:41:42.587549Z"
    }
   },
   "outputs": [],
   "source": [
    "a[a == 0] == -9999\n",
    "a"
   ]
  },
  {
   "cell_type": "code",
   "execution_count": null,
   "metadata": {},
   "outputs": [],
   "source": []
  }
 ],
 "metadata": {
  "hide_input": false,
  "kernelspec": {
   "display_name": "Python [default]",
   "language": "python",
   "name": "python3"
  },
  "language_info": {
   "codemirror_mode": {
    "name": "ipython",
    "version": 3
   },
   "file_extension": ".py",
   "mimetype": "text/x-python",
   "name": "python",
   "nbconvert_exporter": "python",
   "pygments_lexer": "ipython3",
   "version": "3.7.0"
  },
  "toc": {
   "base_numbering": 1,
   "nav_menu": {},
   "number_sections": true,
   "sideBar": true,
   "skip_h1_title": false,
   "title_cell": "Table of Contents",
   "title_sidebar": "Contents",
   "toc_cell": false,
   "toc_position": {},
   "toc_section_display": true,
   "toc_window_display": false
  },
  "varInspector": {
   "cols": {
    "lenName": 16,
    "lenType": 16,
    "lenVar": 40
   },
   "kernels_config": {
    "python": {
     "delete_cmd_postfix": "",
     "delete_cmd_prefix": "del ",
     "library": "var_list.py",
     "varRefreshCmd": "print(var_dic_list())"
    },
    "r": {
     "delete_cmd_postfix": ") ",
     "delete_cmd_prefix": "rm(",
     "library": "var_list.r",
     "varRefreshCmd": "cat(var_dic_list()) "
    }
   },
   "types_to_exclude": [
    "module",
    "function",
    "builtin_function_or_method",
    "instance",
    "_Feature"
   ],
   "window_display": false
  }
 },
 "nbformat": 4,
 "nbformat_minor": 2
}
