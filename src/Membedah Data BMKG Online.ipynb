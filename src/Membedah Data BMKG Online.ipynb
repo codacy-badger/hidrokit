{
 "cells": [
  {
   "cell_type": "markdown",
   "metadata": {},
   "source": [
    "Berhubung untuk data metadata stasiun sudah disertakan dalam `.bmkgkit`, akan langsung dipakai."
   ]
  },
  {
   "cell_type": "code",
   "execution_count": 1,
   "metadata": {
    "ExecuteTime": {
     "end_time": "2018-10-23T12:25:49.704833Z",
     "start_time": "2018-10-23T12:25:30.813146Z"
    }
   },
   "outputs": [],
   "source": [
    "import numpy as np, pandas as pd, pathlib, matplotlib.pyplot as plt, seaborn as sns"
   ]
  },
  {
   "cell_type": "code",
   "execution_count": 2,
   "metadata": {
    "ExecuteTime": {
     "end_time": "2018-10-23T12:25:50.114591Z",
     "start_time": "2018-10-23T12:25:49.708830Z"
    }
   },
   "outputs": [],
   "source": [
    "%load_ext autoreload\n",
    "%autoreload 2\n",
    "%aimport hidrokit\n",
    "from hidrokit.bmkgkit import metadata_station"
   ]
  },
  {
   "cell_type": "code",
   "execution_count": 3,
   "metadata": {
    "ExecuteTime": {
     "end_time": "2018-10-23T12:25:50.421484Z",
     "start_time": "2018-10-23T12:25:50.116577Z"
    }
   },
   "outputs": [
    {
     "data": {
      "text/html": [
       "<div>\n",
       "<style scoped>\n",
       "    .dataframe tbody tr th:only-of-type {\n",
       "        vertical-align: middle;\n",
       "    }\n",
       "\n",
       "    .dataframe tbody tr th {\n",
       "        vertical-align: top;\n",
       "    }\n",
       "\n",
       "    .dataframe thead th {\n",
       "        text-align: right;\n",
       "    }\n",
       "</style>\n",
       "<table border=\"1\" class=\"dataframe\">\n",
       "  <thead>\n",
       "    <tr style=\"text-align: right;\">\n",
       "      <th></th>\n",
       "      <th>id_stat</th>\n",
       "      <th>name_stat</th>\n",
       "      <th>type_stat</th>\n",
       "      <th>region</th>\n",
       "      <th>provinsi</th>\n",
       "      <th>kabupaten</th>\n",
       "      <th>lintang_derajat</th>\n",
       "      <th>bujur_derajat</th>\n",
       "      <th>ketinggian_mdpl</th>\n",
       "      <th>soil</th>\n",
       "      <th>exposure</th>\n",
       "      <th>land_use</th>\n",
       "      <th>time_zone</th>\n",
       "    </tr>\n",
       "  </thead>\n",
       "  <tbody>\n",
       "    <tr>\n",
       "      <th>0</th>\n",
       "      <td>11010101a</td>\n",
       "      <td>Bakongan</td>\n",
       "      <td>Pos Hujan Kerjasama</td>\n",
       "      <td>Region I</td>\n",
       "      <td>Nanggroe Aceh Darussalam</td>\n",
       "      <td>Kab. Aceh Selatan</td>\n",
       "      <td>2.95000</td>\n",
       "      <td>97.4700</td>\n",
       "      <td>0</td>\n",
       "      <td>NaN</td>\n",
       "      <td>NaN</td>\n",
       "      <td>NaN</td>\n",
       "      <td>+07:00</td>\n",
       "    </tr>\n",
       "    <tr>\n",
       "      <th>1</th>\n",
       "      <td>11010201a</td>\n",
       "      <td>Kluet Utara</td>\n",
       "      <td>Pos Hujan Kerjasama</td>\n",
       "      <td>Region I</td>\n",
       "      <td>Nanggroe Aceh Darussalam</td>\n",
       "      <td>Kab. Aceh Selatan</td>\n",
       "      <td>3.59000</td>\n",
       "      <td>97.0000</td>\n",
       "      <td>0</td>\n",
       "      <td>NaN</td>\n",
       "      <td>NaN</td>\n",
       "      <td>NaN</td>\n",
       "      <td>NaN</td>\n",
       "    </tr>\n",
       "    <tr>\n",
       "      <th>2</th>\n",
       "      <td>11010301a</td>\n",
       "      <td>Kluet Selatan</td>\n",
       "      <td>Pos Hujan Kerjasama</td>\n",
       "      <td>Region I</td>\n",
       "      <td>Nanggroe Aceh Darussalam</td>\n",
       "      <td>Kab. Aceh Selatan</td>\n",
       "      <td>3.03000</td>\n",
       "      <td>97.3800</td>\n",
       "      <td>0</td>\n",
       "      <td>NaN</td>\n",
       "      <td>NaN</td>\n",
       "      <td>NaN</td>\n",
       "      <td>NaN</td>\n",
       "    </tr>\n",
       "    <tr>\n",
       "      <th>3</th>\n",
       "      <td>11010401a</td>\n",
       "      <td>Labuhan Haji</td>\n",
       "      <td>Pos Hujan Kerjasama</td>\n",
       "      <td>Region I</td>\n",
       "      <td>Nanggroe Aceh Darussalam</td>\n",
       "      <td>Kab. Aceh Selatan</td>\n",
       "      <td>3.54000</td>\n",
       "      <td>97.0100</td>\n",
       "      <td>0</td>\n",
       "      <td>NaN</td>\n",
       "      <td>NaN</td>\n",
       "      <td>NaN</td>\n",
       "      <td>NaN</td>\n",
       "    </tr>\n",
       "    <tr>\n",
       "      <th>4</th>\n",
       "      <td>11010501a</td>\n",
       "      <td>Meukek</td>\n",
       "      <td>Pos Hujan Kerjasama</td>\n",
       "      <td>Region I</td>\n",
       "      <td>Nanggroe Aceh Darussalam</td>\n",
       "      <td>Kab. Aceh Selatan</td>\n",
       "      <td>3.54321</td>\n",
       "      <td>97.1523</td>\n",
       "      <td>0</td>\n",
       "      <td>NaN</td>\n",
       "      <td>NaN</td>\n",
       "      <td>NaN</td>\n",
       "      <td>NaN</td>\n",
       "    </tr>\n",
       "  </tbody>\n",
       "</table>\n",
       "</div>"
      ],
      "text/plain": [
       "     id_stat      name_stat            type_stat    region  \\\n",
       "0  11010101a       Bakongan  Pos Hujan Kerjasama  Region I   \n",
       "1  11010201a    Kluet Utara  Pos Hujan Kerjasama  Region I   \n",
       "2  11010301a  Kluet Selatan  Pos Hujan Kerjasama  Region I   \n",
       "3  11010401a   Labuhan Haji  Pos Hujan Kerjasama  Region I   \n",
       "4  11010501a         Meukek  Pos Hujan Kerjasama  Region I   \n",
       "\n",
       "                   provinsi          kabupaten  lintang_derajat  \\\n",
       "0  Nanggroe Aceh Darussalam  Kab. Aceh Selatan          2.95000   \n",
       "1  Nanggroe Aceh Darussalam  Kab. Aceh Selatan          3.59000   \n",
       "2  Nanggroe Aceh Darussalam  Kab. Aceh Selatan          3.03000   \n",
       "3  Nanggroe Aceh Darussalam  Kab. Aceh Selatan          3.54000   \n",
       "4  Nanggroe Aceh Darussalam  Kab. Aceh Selatan          3.54321   \n",
       "\n",
       "   bujur_derajat  ketinggian_mdpl  soil  exposure  land_use time_zone  \n",
       "0        97.4700                0   NaN       NaN       NaN    +07:00  \n",
       "1        97.0000                0   NaN       NaN       NaN       NaN  \n",
       "2        97.3800                0   NaN       NaN       NaN       NaN  \n",
       "3        97.0100                0   NaN       NaN       NaN       NaN  \n",
       "4        97.1523                0   NaN       NaN       NaN       NaN  "
      ]
     },
     "execution_count": 3,
     "metadata": {},
     "output_type": "execute_result"
    }
   ],
   "source": [
    "metadata_station.head()"
   ]
  },
  {
   "cell_type": "markdown",
   "metadata": {},
   "source": [
    "rasanya tidak perlu digunakan kolom `ketinggian.mdpl soil exposure land.use time.zone`"
   ]
  },
  {
   "cell_type": "code",
   "execution_count": 4,
   "metadata": {
    "ExecuteTime": {
     "end_time": "2018-10-23T12:25:50.654340Z",
     "start_time": "2018-10-23T12:25:50.428477Z"
    }
   },
   "outputs": [],
   "source": [
    "metadata_station = metadata_station.drop(['ketinggian_mdpl', 'soil', 'exposure', 'land_use', 'time_zone'], axis=1)"
   ]
  },
  {
   "cell_type": "code",
   "execution_count": 5,
   "metadata": {
    "ExecuteTime": {
     "end_time": "2018-10-23T12:25:50.927167Z",
     "start_time": "2018-10-23T12:25:50.667330Z"
    }
   },
   "outputs": [
    {
     "data": {
      "text/html": [
       "<div>\n",
       "<style scoped>\n",
       "    .dataframe tbody tr th:only-of-type {\n",
       "        vertical-align: middle;\n",
       "    }\n",
       "\n",
       "    .dataframe tbody tr th {\n",
       "        vertical-align: top;\n",
       "    }\n",
       "\n",
       "    .dataframe thead th {\n",
       "        text-align: right;\n",
       "    }\n",
       "</style>\n",
       "<table border=\"1\" class=\"dataframe\">\n",
       "  <thead>\n",
       "    <tr style=\"text-align: right;\">\n",
       "      <th></th>\n",
       "      <th>id_stat</th>\n",
       "      <th>name_stat</th>\n",
       "      <th>type_stat</th>\n",
       "      <th>region</th>\n",
       "      <th>provinsi</th>\n",
       "      <th>kabupaten</th>\n",
       "      <th>lintang_derajat</th>\n",
       "      <th>bujur_derajat</th>\n",
       "    </tr>\n",
       "  </thead>\n",
       "  <tbody>\n",
       "    <tr>\n",
       "      <th>0</th>\n",
       "      <td>11010101a</td>\n",
       "      <td>Bakongan</td>\n",
       "      <td>Pos Hujan Kerjasama</td>\n",
       "      <td>Region I</td>\n",
       "      <td>Nanggroe Aceh Darussalam</td>\n",
       "      <td>Kab. Aceh Selatan</td>\n",
       "      <td>2.95000</td>\n",
       "      <td>97.4700</td>\n",
       "    </tr>\n",
       "    <tr>\n",
       "      <th>1</th>\n",
       "      <td>11010201a</td>\n",
       "      <td>Kluet Utara</td>\n",
       "      <td>Pos Hujan Kerjasama</td>\n",
       "      <td>Region I</td>\n",
       "      <td>Nanggroe Aceh Darussalam</td>\n",
       "      <td>Kab. Aceh Selatan</td>\n",
       "      <td>3.59000</td>\n",
       "      <td>97.0000</td>\n",
       "    </tr>\n",
       "    <tr>\n",
       "      <th>2</th>\n",
       "      <td>11010301a</td>\n",
       "      <td>Kluet Selatan</td>\n",
       "      <td>Pos Hujan Kerjasama</td>\n",
       "      <td>Region I</td>\n",
       "      <td>Nanggroe Aceh Darussalam</td>\n",
       "      <td>Kab. Aceh Selatan</td>\n",
       "      <td>3.03000</td>\n",
       "      <td>97.3800</td>\n",
       "    </tr>\n",
       "    <tr>\n",
       "      <th>3</th>\n",
       "      <td>11010401a</td>\n",
       "      <td>Labuhan Haji</td>\n",
       "      <td>Pos Hujan Kerjasama</td>\n",
       "      <td>Region I</td>\n",
       "      <td>Nanggroe Aceh Darussalam</td>\n",
       "      <td>Kab. Aceh Selatan</td>\n",
       "      <td>3.54000</td>\n",
       "      <td>97.0100</td>\n",
       "    </tr>\n",
       "    <tr>\n",
       "      <th>4</th>\n",
       "      <td>11010501a</td>\n",
       "      <td>Meukek</td>\n",
       "      <td>Pos Hujan Kerjasama</td>\n",
       "      <td>Region I</td>\n",
       "      <td>Nanggroe Aceh Darussalam</td>\n",
       "      <td>Kab. Aceh Selatan</td>\n",
       "      <td>3.54321</td>\n",
       "      <td>97.1523</td>\n",
       "    </tr>\n",
       "  </tbody>\n",
       "</table>\n",
       "</div>"
      ],
      "text/plain": [
       "     id_stat      name_stat            type_stat    region  \\\n",
       "0  11010101a       Bakongan  Pos Hujan Kerjasama  Region I   \n",
       "1  11010201a    Kluet Utara  Pos Hujan Kerjasama  Region I   \n",
       "2  11010301a  Kluet Selatan  Pos Hujan Kerjasama  Region I   \n",
       "3  11010401a   Labuhan Haji  Pos Hujan Kerjasama  Region I   \n",
       "4  11010501a         Meukek  Pos Hujan Kerjasama  Region I   \n",
       "\n",
       "                   provinsi          kabupaten  lintang_derajat  bujur_derajat  \n",
       "0  Nanggroe Aceh Darussalam  Kab. Aceh Selatan          2.95000        97.4700  \n",
       "1  Nanggroe Aceh Darussalam  Kab. Aceh Selatan          3.59000        97.0000  \n",
       "2  Nanggroe Aceh Darussalam  Kab. Aceh Selatan          3.03000        97.3800  \n",
       "3  Nanggroe Aceh Darussalam  Kab. Aceh Selatan          3.54000        97.0100  \n",
       "4  Nanggroe Aceh Darussalam  Kab. Aceh Selatan          3.54321        97.1523  "
      ]
     },
     "execution_count": 5,
     "metadata": {},
     "output_type": "execute_result"
    }
   ],
   "source": [
    "metadata_station.head()"
   ]
  },
  {
   "cell_type": "markdown",
   "metadata": {},
   "source": [
    "Mari kita cek, data yang ada di bmkgonline"
   ]
  },
  {
   "cell_type": "code",
   "execution_count": 6,
   "metadata": {
    "ExecuteTime": {
     "end_time": "2018-10-23T12:25:51.122562Z",
     "start_time": "2018-10-23T12:25:50.930167Z"
    }
   },
   "outputs": [
    {
     "name": "stdout",
     "output_type": "stream",
     "text": [
      "<class 'pandas.core.frame.DataFrame'>\n",
      "Int64Index: 8028 entries, 0 to 8027\n",
      "Data columns (total 8 columns):\n",
      "id_stat            8028 non-null object\n",
      "name_stat          8028 non-null object\n",
      "type_stat          8028 non-null object\n",
      "region             8028 non-null object\n",
      "provinsi           8028 non-null object\n",
      "kabupaten          8028 non-null object\n",
      "lintang_derajat    8028 non-null float64\n",
      "bujur_derajat      8028 non-null float64\n",
      "dtypes: float64(2), object(6)\n",
      "memory usage: 564.5+ KB\n",
      "None\n"
     ]
    }
   ],
   "source": [
    "print(metadata_station.info())"
   ]
  },
  {
   "cell_type": "code",
   "execution_count": 7,
   "metadata": {
    "ExecuteTime": {
     "end_time": "2018-10-23T12:25:51.313303Z",
     "start_time": "2018-10-23T12:25:51.125561Z"
    }
   },
   "outputs": [
    {
     "name": "stdout",
     "output_type": "stream",
     "text": [
      "Jumlah baris yang terdapat dalam metadata:  8028\n"
     ]
    }
   ],
   "source": [
    "print('Jumlah baris yang terdapat dalam metadata: ', metadata_station.shape[0])"
   ]
  },
  {
   "cell_type": "code",
   "execution_count": 8,
   "metadata": {
    "ExecuteTime": {
     "end_time": "2018-10-23T12:25:51.499733Z",
     "start_time": "2018-10-23T12:25:51.316305Z"
    }
   },
   "outputs": [
    {
     "name": "stdout",
     "output_type": "stream",
     "text": [
      "Jumlah stasiun yang terdata di bmkg (berdasarkan id):  8025\n",
      "Jumlah stasiun yang terdata di bmkg (berdasarkan nama):  7147\n"
     ]
    }
   ],
   "source": [
    "print('Jumlah stasiun yang terdata di bmkg (berdasarkan id): ', metadata_station.id_stat.nunique())\n",
    "print('Jumlah stasiun yang terdata di bmkg (berdasarkan nama): ', metadata_station.name_stat.nunique())"
   ]
  },
  {
   "cell_type": "markdown",
   "metadata": {},
   "source": [
    "Angkanya berbeda, yang seharusnya sama. Dugaan saya adalah, ada stasiun yang tidak memiliki `id`. Atau ada beberapa stasiun yang memiliki `id` serupa (mungkin kah itu?). Tidak mungkin ada nilai `null` / `nan`, karena dari info, diketahui bahwa semua kolom merupakan `non-null`. "
   ]
  },
  {
   "cell_type": "code",
   "execution_count": 9,
   "metadata": {
    "ExecuteTime": {
     "end_time": "2018-10-23T12:25:51.717660Z",
     "start_time": "2018-10-23T12:25:51.505728Z"
    }
   },
   "outputs": [
    {
     "name": "stdout",
     "output_type": "stream",
     "text": [
      "Check id stasiun yang sama\n",
      "33221801a    2\n",
      "51010404a    2\n",
      "97504        2\n",
      "33081401a    1\n",
      "16110404b    1\n",
      "Name: id_stat, dtype: int64\n"
     ]
    }
   ],
   "source": [
    "print('Check id stasiun yang sama')\n",
    "print(metadata_station.id_stat.value_counts(ascending=False).head(5))\n",
    "id_stasiun_sama = metadata_station.id_stat.value_counts(ascending=False).iloc[:3].index.tolist()"
   ]
  },
  {
   "cell_type": "markdown",
   "metadata": {},
   "source": [
    "Ternyata ada 3 `id` stasiun yang menyimpan dua informasi stasiun. Stasiun tersebut"
   ]
  },
  {
   "cell_type": "code",
   "execution_count": 10,
   "metadata": {
    "ExecuteTime": {
     "end_time": "2018-10-23T12:25:51.946516Z",
     "start_time": "2018-10-23T12:25:51.720656Z"
    }
   },
   "outputs": [
    {
     "data": {
      "text/html": [
       "<div>\n",
       "<style scoped>\n",
       "    .dataframe tbody tr th:only-of-type {\n",
       "        vertical-align: middle;\n",
       "    }\n",
       "\n",
       "    .dataframe tbody tr th {\n",
       "        vertical-align: top;\n",
       "    }\n",
       "\n",
       "    .dataframe thead th {\n",
       "        text-align: right;\n",
       "    }\n",
       "</style>\n",
       "<table border=\"1\" class=\"dataframe\">\n",
       "  <thead>\n",
       "    <tr style=\"text-align: right;\">\n",
       "      <th></th>\n",
       "      <th>id_stat</th>\n",
       "      <th>name_stat</th>\n",
       "      <th>type_stat</th>\n",
       "      <th>region</th>\n",
       "      <th>provinsi</th>\n",
       "      <th>kabupaten</th>\n",
       "      <th>lintang_derajat</th>\n",
       "      <th>bujur_derajat</th>\n",
       "    </tr>\n",
       "  </thead>\n",
       "  <tbody>\n",
       "    <tr>\n",
       "      <th>2418</th>\n",
       "      <td>33221801a</td>\n",
       "      <td>Ungaran / Genuk</td>\n",
       "      <td>Pos Hujan Kerjasama</td>\n",
       "      <td>Region II</td>\n",
       "      <td>Jawa Tengah</td>\n",
       "      <td>Kab. Semarang</td>\n",
       "      <td>-7.14651</td>\n",
       "      <td>110.4057</td>\n",
       "    </tr>\n",
       "    <tr>\n",
       "      <th>2455</th>\n",
       "      <td>33221801a</td>\n",
       "      <td>Ungaran / Genuk</td>\n",
       "      <td>Pos Hujan Kerjasama</td>\n",
       "      <td>Region II</td>\n",
       "      <td>Jawa Tengah</td>\n",
       "      <td>Kab. Semarang</td>\n",
       "      <td>-7.14651</td>\n",
       "      <td>110.4057</td>\n",
       "    </tr>\n",
       "    <tr>\n",
       "      <th>4250</th>\n",
       "      <td>51010404a</td>\n",
       "      <td>Nusasari</td>\n",
       "      <td>Pos Hujan Kerjasama</td>\n",
       "      <td>Region III</td>\n",
       "      <td>Bali</td>\n",
       "      <td>Kab. Jembrana</td>\n",
       "      <td>-8.28000</td>\n",
       "      <td>114.5100</td>\n",
       "    </tr>\n",
       "    <tr>\n",
       "      <th>4251</th>\n",
       "      <td>51010404a</td>\n",
       "      <td>Tetelan</td>\n",
       "      <td>Pos Hujan Kerjasama</td>\n",
       "      <td>Region III</td>\n",
       "      <td>Bali</td>\n",
       "      <td>Kab. Jembrana</td>\n",
       "      <td>-8.29000</td>\n",
       "      <td>114.5100</td>\n",
       "    </tr>\n",
       "    <tr>\n",
       "      <th>7231</th>\n",
       "      <td>97504</td>\n",
       "      <td>Stasiun Geofisika Sorong</td>\n",
       "      <td>UPT</td>\n",
       "      <td>Region V</td>\n",
       "      <td>Papua Barat</td>\n",
       "      <td>Kota Sorong</td>\n",
       "      <td>-0.86000</td>\n",
       "      <td>131.2600</td>\n",
       "    </tr>\n",
       "    <tr>\n",
       "      <th>7232</th>\n",
       "      <td>97504</td>\n",
       "      <td>Stasiun Geofisika Sorong</td>\n",
       "      <td>UPT</td>\n",
       "      <td>Region V</td>\n",
       "      <td>Papua Barat</td>\n",
       "      <td>Kota Sorong</td>\n",
       "      <td>-0.86000</td>\n",
       "      <td>131.2600</td>\n",
       "    </tr>\n",
       "  </tbody>\n",
       "</table>\n",
       "</div>"
      ],
      "text/plain": [
       "        id_stat                 name_stat            type_stat      region  \\\n",
       "2418  33221801a           Ungaran / Genuk  Pos Hujan Kerjasama   Region II   \n",
       "2455  33221801a           Ungaran / Genuk  Pos Hujan Kerjasama   Region II   \n",
       "4250  51010404a                  Nusasari  Pos Hujan Kerjasama  Region III   \n",
       "4251  51010404a                   Tetelan  Pos Hujan Kerjasama  Region III   \n",
       "7231      97504  Stasiun Geofisika Sorong                  UPT    Region V   \n",
       "7232      97504  Stasiun Geofisika Sorong                  UPT    Region V   \n",
       "\n",
       "         provinsi      kabupaten  lintang_derajat  bujur_derajat  \n",
       "2418  Jawa Tengah  Kab. Semarang         -7.14651       110.4057  \n",
       "2455  Jawa Tengah  Kab. Semarang         -7.14651       110.4057  \n",
       "4250         Bali  Kab. Jembrana         -8.28000       114.5100  \n",
       "4251         Bali  Kab. Jembrana         -8.29000       114.5100  \n",
       "7231  Papua Barat    Kota Sorong         -0.86000       131.2600  \n",
       "7232  Papua Barat    Kota Sorong         -0.86000       131.2600  "
      ]
     },
     "execution_count": 10,
     "metadata": {},
     "output_type": "execute_result"
    }
   ],
   "source": [
    "stasiun_sama_id = metadata_station.loc[metadata_station['id_stat'].isin(id_stasiun_sama),:]\n",
    "stasiun_sama_id"
   ]
  },
  {
   "cell_type": "code",
   "execution_count": 11,
   "metadata": {
    "ExecuteTime": {
     "end_time": "2018-10-23T12:25:52.132904Z",
     "start_time": "2018-10-23T12:25:51.949514Z"
    }
   },
   "outputs": [
    {
     "name": "stdout",
     "output_type": "stream",
     "text": [
      "stasiun 33221801a sama dengan stasiun berikutnya? \n",
      "\tiya\n",
      "stasiun 51010404a sama dengan stasiun berikutnya? \n",
      "\ttidak, pada kolom ['name_stat', 'lintang_derajat']\n",
      "stasiun 97504 sama dengan stasiun berikutnya? \n",
      "\tiya\n"
     ]
    }
   ],
   "source": [
    "def sama_atau_tidak(posisi1):\n",
    "    posisi2 = posisi1+1\n",
    "    mask = (~(stasiun_sama_id.iloc[posisi1] == stasiun_sama_id.iloc[posisi2]))\n",
    "    id_stat = stasiun_sama_id.iloc[posisi1,0]\n",
    "    total_yang_tidak_sama = mask.sum()\n",
    "    if total_yang_tidak_sama:\n",
    "        return (f'stasiun {id_stat} sama dengan stasiun berikutnya? \\n\\t'\n",
    "                f'tidak, pada kolom {(mask[mask == True]).index.tolist()}')\n",
    "    else:\n",
    "        return (f'stasiun {id_stat} sama dengan stasiun berikutnya? \\n\\t'\n",
    "                f'iya')\n",
    "    \n",
    "print(sama_atau_tidak(0))\n",
    "print(sama_atau_tidak(2))\n",
    "print(sama_atau_tidak(4))"
   ]
  },
  {
   "cell_type": "markdown",
   "metadata": {},
   "source": [
    "Stasiun yang memiliki informasi yang sama akan dihapus dalam tabel"
   ]
  },
  {
   "cell_type": "code",
   "execution_count": 12,
   "metadata": {
    "ExecuteTime": {
     "end_time": "2018-10-23T12:25:52.335803Z",
     "start_time": "2018-10-23T12:25:52.135905Z"
    }
   },
   "outputs": [],
   "source": [
    "metadata_station = metadata_station.drop_duplicates(subset='id_stat', keep='first').reset_index(drop=True)"
   ]
  },
  {
   "cell_type": "code",
   "execution_count": 13,
   "metadata": {
    "ExecuteTime": {
     "end_time": "2018-10-23T12:25:52.601641Z",
     "start_time": "2018-10-23T12:25:52.337803Z"
    }
   },
   "outputs": [
    {
     "data": {
      "text/html": [
       "<div>\n",
       "<style scoped>\n",
       "    .dataframe tbody tr th:only-of-type {\n",
       "        vertical-align: middle;\n",
       "    }\n",
       "\n",
       "    .dataframe tbody tr th {\n",
       "        vertical-align: top;\n",
       "    }\n",
       "\n",
       "    .dataframe thead th {\n",
       "        text-align: right;\n",
       "    }\n",
       "</style>\n",
       "<table border=\"1\" class=\"dataframe\">\n",
       "  <thead>\n",
       "    <tr style=\"text-align: right;\">\n",
       "      <th></th>\n",
       "      <th>id_stat</th>\n",
       "      <th>name_stat</th>\n",
       "      <th>type_stat</th>\n",
       "      <th>region</th>\n",
       "      <th>provinsi</th>\n",
       "      <th>kabupaten</th>\n",
       "      <th>lintang_derajat</th>\n",
       "      <th>bujur_derajat</th>\n",
       "    </tr>\n",
       "  </thead>\n",
       "  <tbody>\n",
       "    <tr>\n",
       "      <th>0</th>\n",
       "      <td>11010101a</td>\n",
       "      <td>Bakongan</td>\n",
       "      <td>Pos Hujan Kerjasama</td>\n",
       "      <td>Region I</td>\n",
       "      <td>Nanggroe Aceh Darussalam</td>\n",
       "      <td>Kab. Aceh Selatan</td>\n",
       "      <td>2.95000</td>\n",
       "      <td>97.4700</td>\n",
       "    </tr>\n",
       "    <tr>\n",
       "      <th>1</th>\n",
       "      <td>11010201a</td>\n",
       "      <td>Kluet Utara</td>\n",
       "      <td>Pos Hujan Kerjasama</td>\n",
       "      <td>Region I</td>\n",
       "      <td>Nanggroe Aceh Darussalam</td>\n",
       "      <td>Kab. Aceh Selatan</td>\n",
       "      <td>3.59000</td>\n",
       "      <td>97.0000</td>\n",
       "    </tr>\n",
       "    <tr>\n",
       "      <th>2</th>\n",
       "      <td>11010301a</td>\n",
       "      <td>Kluet Selatan</td>\n",
       "      <td>Pos Hujan Kerjasama</td>\n",
       "      <td>Region I</td>\n",
       "      <td>Nanggroe Aceh Darussalam</td>\n",
       "      <td>Kab. Aceh Selatan</td>\n",
       "      <td>3.03000</td>\n",
       "      <td>97.3800</td>\n",
       "    </tr>\n",
       "    <tr>\n",
       "      <th>3</th>\n",
       "      <td>11010401a</td>\n",
       "      <td>Labuhan Haji</td>\n",
       "      <td>Pos Hujan Kerjasama</td>\n",
       "      <td>Region I</td>\n",
       "      <td>Nanggroe Aceh Darussalam</td>\n",
       "      <td>Kab. Aceh Selatan</td>\n",
       "      <td>3.54000</td>\n",
       "      <td>97.0100</td>\n",
       "    </tr>\n",
       "    <tr>\n",
       "      <th>4</th>\n",
       "      <td>11010501a</td>\n",
       "      <td>Meukek</td>\n",
       "      <td>Pos Hujan Kerjasama</td>\n",
       "      <td>Region I</td>\n",
       "      <td>Nanggroe Aceh Darussalam</td>\n",
       "      <td>Kab. Aceh Selatan</td>\n",
       "      <td>3.54321</td>\n",
       "      <td>97.1523</td>\n",
       "    </tr>\n",
       "  </tbody>\n",
       "</table>\n",
       "</div>"
      ],
      "text/plain": [
       "     id_stat      name_stat            type_stat    region  \\\n",
       "0  11010101a       Bakongan  Pos Hujan Kerjasama  Region I   \n",
       "1  11010201a    Kluet Utara  Pos Hujan Kerjasama  Region I   \n",
       "2  11010301a  Kluet Selatan  Pos Hujan Kerjasama  Region I   \n",
       "3  11010401a   Labuhan Haji  Pos Hujan Kerjasama  Region I   \n",
       "4  11010501a         Meukek  Pos Hujan Kerjasama  Region I   \n",
       "\n",
       "                   provinsi          kabupaten  lintang_derajat  bujur_derajat  \n",
       "0  Nanggroe Aceh Darussalam  Kab. Aceh Selatan          2.95000        97.4700  \n",
       "1  Nanggroe Aceh Darussalam  Kab. Aceh Selatan          3.59000        97.0000  \n",
       "2  Nanggroe Aceh Darussalam  Kab. Aceh Selatan          3.03000        97.3800  \n",
       "3  Nanggroe Aceh Darussalam  Kab. Aceh Selatan          3.54000        97.0100  \n",
       "4  Nanggroe Aceh Darussalam  Kab. Aceh Selatan          3.54321        97.1523  "
      ]
     },
     "execution_count": 13,
     "metadata": {},
     "output_type": "execute_result"
    }
   ],
   "source": [
    "metadata_station.head(5)"
   ]
  },
  {
   "cell_type": "markdown",
   "metadata": {},
   "source": [
    "Bagaimana dengan kolom `nama`?"
   ]
  },
  {
   "cell_type": "code",
   "execution_count": 14,
   "metadata": {
    "ExecuteTime": {
     "end_time": "2018-10-23T12:25:52.832496Z",
     "start_time": "2018-10-23T12:25:52.605639Z"
    }
   },
   "outputs": [
    {
     "name": "stdout",
     "output_type": "stream",
     "text": [
      "Karanganyar    6\n",
      "Sukadana       5\n",
      "Tanjung        5\n",
      "Sidomulyo      5\n",
      "Lambuya        4\n",
      "Name: name_stat, dtype: int64 \n",
      "\n",
      "25 stasiun yang muncul lebih dari satu kali: \n",
      "\t Karanganyar, Sukadana, Tanjung, Sidomulyo, Lambuya, Sukamaju, Bojong, Ciawi, Rembang, Babadan, Cinangka, Talawi, Beji, Bakung, Wonorejo, Ombilin, Sungai Tarab, Curug, Guguk, Lengkong, Blimbing, Cubadak, Koto Baru, Kandangan, Sukajadi\n",
      "\n",
      "Jumlah nama yang memiliki id stasiun lebih dari 1: \n",
      "\t 788\n"
     ]
    }
   ],
   "source": [
    "nama_stasiun_sama = metadata_station.name_stat.value_counts()\n",
    "print(nama_stasiun_sama.head(5),'\\n')\n",
    "print('25 stasiun yang muncul lebih dari satu kali: \\n\\t',\n",
    "      ', '.join(nama_stasiun_sama[nama_stasiun_sama != 1].index.tolist()[:25]))\n",
    "print()\n",
    "print('Jumlah nama yang memiliki id stasiun lebih dari 1: \\n\\t',\n",
    "      (nama_stasiun_sama != 1).sum())"
   ]
  },
  {
   "cell_type": "markdown",
   "metadata": {},
   "source": [
    "Ternyata ada beberapa stasiun yang memiliki nama yang sama, meski memiliki `id` yang berbeda. Karena `id` merupakan identitas utama dari stasiun, maka untuk `nama` yang sama diabaikan. "
   ]
  },
  {
   "cell_type": "markdown",
   "metadata": {},
   "source": [
    "Data akan disimpan dalam `.csv` dengan nama `clean_metadata_station`"
   ]
  },
  {
   "cell_type": "code",
   "execution_count": 15,
   "metadata": {
    "ExecuteTime": {
     "end_time": "2018-10-23T12:25:53.249494Z",
     "start_time": "2018-10-23T12:25:52.835495Z"
    }
   },
   "outputs": [],
   "source": [
    "metadata_station.to_csv('clean_metadata_station.csv', index=False)"
   ]
  },
  {
   "cell_type": "code",
   "execution_count": 16,
   "metadata": {
    "ExecuteTime": {
     "end_time": "2018-10-23T12:25:53.527832Z",
     "start_time": "2018-10-23T12:25:53.252490Z"
    }
   },
   "outputs": [
    {
     "data": {
      "text/html": [
       "<div>\n",
       "<style scoped>\n",
       "    .dataframe tbody tr th:only-of-type {\n",
       "        vertical-align: middle;\n",
       "    }\n",
       "\n",
       "    .dataframe tbody tr th {\n",
       "        vertical-align: top;\n",
       "    }\n",
       "\n",
       "    .dataframe thead th {\n",
       "        text-align: right;\n",
       "    }\n",
       "</style>\n",
       "<table border=\"1\" class=\"dataframe\">\n",
       "  <thead>\n",
       "    <tr style=\"text-align: right;\">\n",
       "      <th></th>\n",
       "      <th>id_stat</th>\n",
       "      <th>name_stat</th>\n",
       "      <th>region</th>\n",
       "      <th>provinsi</th>\n",
       "      <th>kabupaten</th>\n",
       "      <th>lintang_derajat</th>\n",
       "      <th>bujur_derajat</th>\n",
       "    </tr>\n",
       "    <tr>\n",
       "      <th>type_stat</th>\n",
       "      <th></th>\n",
       "      <th></th>\n",
       "      <th></th>\n",
       "      <th></th>\n",
       "      <th></th>\n",
       "      <th></th>\n",
       "      <th></th>\n",
       "    </tr>\n",
       "  </thead>\n",
       "  <tbody>\n",
       "    <tr>\n",
       "      <th>Pos Hujan Kerjasama</th>\n",
       "      <td>6993</td>\n",
       "      <td>6993</td>\n",
       "      <td>6993</td>\n",
       "      <td>6993</td>\n",
       "      <td>6993</td>\n",
       "      <td>6993</td>\n",
       "      <td>6993</td>\n",
       "    </tr>\n",
       "    <tr>\n",
       "      <th>UPT</th>\n",
       "      <td>179</td>\n",
       "      <td>179</td>\n",
       "      <td>179</td>\n",
       "      <td>179</td>\n",
       "      <td>179</td>\n",
       "      <td>179</td>\n",
       "      <td>179</td>\n",
       "    </tr>\n",
       "    <tr>\n",
       "      <th>aws</th>\n",
       "      <td>853</td>\n",
       "      <td>853</td>\n",
       "      <td>853</td>\n",
       "      <td>853</td>\n",
       "      <td>853</td>\n",
       "      <td>853</td>\n",
       "      <td>853</td>\n",
       "    </tr>\n",
       "  </tbody>\n",
       "</table>\n",
       "</div>"
      ],
      "text/plain": [
       "                     id_stat  name_stat  region  provinsi  kabupaten  \\\n",
       "type_stat                                                              \n",
       "Pos Hujan Kerjasama     6993       6993    6993      6993       6993   \n",
       "UPT                      179        179     179       179        179   \n",
       "aws                      853        853     853       853        853   \n",
       "\n",
       "                     lintang_derajat  bujur_derajat  \n",
       "type_stat                                            \n",
       "Pos Hujan Kerjasama             6993           6993  \n",
       "UPT                              179            179  \n",
       "aws                              853            853  "
      ]
     },
     "execution_count": 16,
     "metadata": {},
     "output_type": "execute_result"
    }
   ],
   "source": [
    "metadata_station.groupby('type_stat').count()"
   ]
  },
  {
   "cell_type": "markdown",
   "metadata": {},
   "source": [
    "Dari perintah diatas dapat diketahui jumlah tipe stasiun di Indonesia berdasarkan data BMKG:\n",
    "- 6993 stasiun Pos Hujan Kerjasama\n",
    "- 179 stasiun UPT\n",
    "- 853 stasiun aws"
   ]
  },
  {
   "cell_type": "markdown",
   "metadata": {},
   "source": [
    "## Bedah Jawa Barat\n",
    "---\n",
    "Pada pembedahan berikutnya akan lebih fokus dengan lokasi Jawa Barat."
   ]
  },
  {
   "cell_type": "code",
   "execution_count": 22,
   "metadata": {
    "ExecuteTime": {
     "end_time": "2018-10-23T12:30:54.793800Z",
     "start_time": "2018-10-23T12:30:54.549007Z"
    }
   },
   "outputs": [
    {
     "name": "stdout",
     "output_type": "stream",
     "text": [
      "Banyaknya stasiun di Jawa Barat: 884\n"
     ]
    },
    {
     "data": {
      "text/html": [
       "<div>\n",
       "<style scoped>\n",
       "    .dataframe tbody tr th:only-of-type {\n",
       "        vertical-align: middle;\n",
       "    }\n",
       "\n",
       "    .dataframe tbody tr th {\n",
       "        vertical-align: top;\n",
       "    }\n",
       "\n",
       "    .dataframe thead th {\n",
       "        text-align: right;\n",
       "    }\n",
       "</style>\n",
       "<table border=\"1\" class=\"dataframe\">\n",
       "  <thead>\n",
       "    <tr style=\"text-align: right;\">\n",
       "      <th></th>\n",
       "      <th>id_stat</th>\n",
       "      <th>name_stat</th>\n",
       "      <th>type_stat</th>\n",
       "      <th>region</th>\n",
       "      <th>provinsi</th>\n",
       "      <th>kabupaten</th>\n",
       "      <th>lintang_derajat</th>\n",
       "      <th>bujur_derajat</th>\n",
       "    </tr>\n",
       "  </thead>\n",
       "  <tbody>\n",
       "    <tr>\n",
       "      <th>800</th>\n",
       "      <td>96751</td>\n",
       "      <td>Stasiun Meteorologi Citeko</td>\n",
       "      <td>UPT</td>\n",
       "      <td>Region II</td>\n",
       "      <td>Jawa Barat</td>\n",
       "      <td>Kab. Bogor</td>\n",
       "      <td>-6.70000</td>\n",
       "      <td>106.85000</td>\n",
       "    </tr>\n",
       "    <tr>\n",
       "      <th>801</th>\n",
       "      <td>32010706g</td>\n",
       "      <td>AWS Mekarsari Cibinong</td>\n",
       "      <td>aws</td>\n",
       "      <td>Region II</td>\n",
       "      <td>Jawa Barat</td>\n",
       "      <td>Kab. Bogor</td>\n",
       "      <td>-6.41882</td>\n",
       "      <td>106.98320</td>\n",
       "    </tr>\n",
       "    <tr>\n",
       "      <th>802</th>\n",
       "      <td>32010103g</td>\n",
       "      <td>AWS Jagorawi Bogor</td>\n",
       "      <td>aws</td>\n",
       "      <td>Region II</td>\n",
       "      <td>Jawa Barat</td>\n",
       "      <td>Kab. Bogor</td>\n",
       "      <td>-6.27635</td>\n",
       "      <td>106.52164</td>\n",
       "    </tr>\n",
       "    <tr>\n",
       "      <th>803</th>\n",
       "      <td>32012603g</td>\n",
       "      <td>AWS Gunung Geulis</td>\n",
       "      <td>aws</td>\n",
       "      <td>Region II</td>\n",
       "      <td>Jawa Barat</td>\n",
       "      <td>Kab. Bogor</td>\n",
       "      <td>-6.62449</td>\n",
       "      <td>106.86200</td>\n",
       "    </tr>\n",
       "    <tr>\n",
       "      <th>804</th>\n",
       "      <td>32012512g</td>\n",
       "      <td>AWS Cibereum Bogor</td>\n",
       "      <td>aws</td>\n",
       "      <td>Region II</td>\n",
       "      <td>Jawa Barat</td>\n",
       "      <td>Kab. Bogor</td>\n",
       "      <td>-6.71067</td>\n",
       "      <td>106.95010</td>\n",
       "    </tr>\n",
       "  </tbody>\n",
       "</table>\n",
       "</div>"
      ],
      "text/plain": [
       "       id_stat                   name_stat type_stat     region    provinsi  \\\n",
       "800      96751  Stasiun Meteorologi Citeko       UPT  Region II  Jawa Barat   \n",
       "801  32010706g      AWS Mekarsari Cibinong       aws  Region II  Jawa Barat   \n",
       "802  32010103g          AWS Jagorawi Bogor       aws  Region II  Jawa Barat   \n",
       "803  32012603g           AWS Gunung Geulis       aws  Region II  Jawa Barat   \n",
       "804  32012512g          AWS Cibereum Bogor       aws  Region II  Jawa Barat   \n",
       "\n",
       "      kabupaten  lintang_derajat  bujur_derajat  \n",
       "800  Kab. Bogor         -6.70000      106.85000  \n",
       "801  Kab. Bogor         -6.41882      106.98320  \n",
       "802  Kab. Bogor         -6.27635      106.52164  \n",
       "803  Kab. Bogor         -6.62449      106.86200  \n",
       "804  Kab. Bogor         -6.71067      106.95010  "
      ]
     },
     "execution_count": 22,
     "metadata": {},
     "output_type": "execute_result"
    }
   ],
   "source": [
    "stasiun_jabar = metadata_station[metadata_station.provinsi == 'Jawa Barat']\n",
    "print('Banyaknya stasiun di Jawa Barat:', stasiun_jabar.shape[0])\n",
    "stasiun_jabar.head()"
   ]
  },
  {
   "cell_type": "markdown",
   "metadata": {},
   "source": [
    "Diketahui bahwa ada __884__ stasiun yang berlokasikan di Jawa Barat"
   ]
  },
  {
   "cell_type": "code",
   "execution_count": 25,
   "metadata": {
    "ExecuteTime": {
     "end_time": "2018-10-23T12:32:48.270208Z",
     "start_time": "2018-10-23T12:32:47.999376Z"
    }
   },
   "outputs": [
    {
     "data": {
      "text/plain": [
       "Kab. Bogor            92\n",
       "Kab. Sukabumi         78\n",
       "Kab. Cianjur          76\n",
       "Kab. Karawang         59\n",
       "Kab. Indramayu        57\n",
       "Kab. Bandung          55\n",
       "Kab. Cirebon          55\n",
       "Kab. Ciamis           47\n",
       "Kab. Tasikmalaya      47\n",
       "Kab. Majalengka       42\n",
       "Kab. Subang           40\n",
       "Kab. Bandung Barat    35\n",
       "Kab. Garut            33\n",
       "Kab. Kuningan         28\n",
       "Kab. Bekasi           26\n",
       "Kab. Purwakarta       25\n",
       "Kab. Sumedang         22\n",
       "Kota Bandung          15\n",
       "Kota Bogor            15\n",
       "Kota Tasikmalaya      13\n",
       "Kota Bekasi           10\n",
       "Kota Banjar            6\n",
       "Kota Depok             5\n",
       "Kota Cirebon           2\n",
       "Kota Sukabumi          1\n",
       "Name: kabupaten, dtype: int64"
      ]
     },
     "execution_count": 25,
     "metadata": {},
     "output_type": "execute_result"
    }
   ],
   "source": [
    "stasiun_jabar.kabupaten.value_counts()"
   ]
  },
  {
   "cell_type": "markdown",
   "metadata": {},
   "source": [
    "Dari informasi diatas diketahui bahwa Kabupaten Bogor memiliki stasiun terbanyak dibandingkan daerah kabupaten lainnya. Sebagai catatan `kabupaten` disini bukan berarti wilayah kabupaten, melainkan kolom tersebut memberitahu wilayah bagian di Jawa Barat."
   ]
  },
  {
   "cell_type": "code",
   "execution_count": null,
   "metadata": {},
   "outputs": [],
   "source": []
  }
 ],
 "metadata": {
  "hide_input": false,
  "kernelspec": {
   "display_name": "Python [default]",
   "language": "python",
   "name": "python3"
  },
  "language_info": {
   "codemirror_mode": {
    "name": "ipython",
    "version": 3
   },
   "file_extension": ".py",
   "mimetype": "text/x-python",
   "name": "python",
   "nbconvert_exporter": "python",
   "pygments_lexer": "ipython3",
   "version": "3.7.0"
  },
  "toc": {
   "base_numbering": 1,
   "nav_menu": {},
   "number_sections": true,
   "sideBar": true,
   "skip_h1_title": false,
   "title_cell": "Table of Contents",
   "title_sidebar": "Contents",
   "toc_cell": false,
   "toc_position": {},
   "toc_section_display": true,
   "toc_window_display": false
  },
  "varInspector": {
   "cols": {
    "lenName": 16,
    "lenType": 16,
    "lenVar": 40
   },
   "kernels_config": {
    "python": {
     "delete_cmd_postfix": "",
     "delete_cmd_prefix": "del ",
     "library": "var_list.py",
     "varRefreshCmd": "print(var_dic_list())"
    },
    "r": {
     "delete_cmd_postfix": ") ",
     "delete_cmd_prefix": "rm(",
     "library": "var_list.r",
     "varRefreshCmd": "cat(var_dic_list()) "
    }
   },
   "types_to_exclude": [
    "module",
    "function",
    "builtin_function_or_method",
    "instance",
    "_Feature"
   ],
   "window_display": false
  }
 },
 "nbformat": 4,
 "nbformat_minor": 2
}
