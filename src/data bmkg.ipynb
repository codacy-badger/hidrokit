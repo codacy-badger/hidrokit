{
 "cells": [
  {
   "cell_type": "code",
   "execution_count": 1,
   "metadata": {
    "ExecuteTime": {
     "end_time": "2018-10-18T13:02:38.151965Z",
     "start_time": "2018-10-18T13:02:37.649775Z"
    }
   },
   "outputs": [],
   "source": [
    "import pandas as pd\n",
    "import pathlib"
   ]
  },
  {
   "cell_type": "code",
   "execution_count": 2,
   "metadata": {
    "ExecuteTime": {
     "end_time": "2018-10-18T13:02:38.160958Z",
     "start_time": "2018-10-18T13:02:38.154962Z"
    }
   },
   "outputs": [],
   "source": [
    "meta_file = '../testdata/bmkg/laporan_metadata_stasiun.xlsx'\n",
    "meta_file = pathlib.Path(meta_file)"
   ]
  },
  {
   "cell_type": "code",
   "execution_count": 3,
   "metadata": {
    "ExecuteTime": {
     "end_time": "2018-10-18T13:02:39.858226Z",
     "start_time": "2018-10-18T13:02:38.165468Z"
    }
   },
   "outputs": [],
   "source": [
    "rawxl = pd.read_excel(meta_file, skiprows=range(0,5))"
   ]
  },
  {
   "cell_type": "code",
   "execution_count": 4,
   "metadata": {
    "ExecuteTime": {
     "end_time": "2018-10-18T13:02:39.883188Z",
     "start_time": "2018-10-18T13:02:39.860202Z"
    }
   },
   "outputs": [
    {
     "data": {
      "text/plain": [
       "Index(['No. Stasiun ', 'Nama Stasiun', 'Jenis Stasiun', 'Region', 'Propinsi',\n",
       "       'Kabupaten', 'Lintang (°)', 'Bujur (°)', 'Ketinggian (mdpl)', 'Soil',\n",
       "       'Exposure', 'Land Use', 'Time Zone'],\n",
       "      dtype='object')"
      ]
     },
     "execution_count": 4,
     "metadata": {},
     "output_type": "execute_result"
    }
   ],
   "source": [
    "rawxl.columns"
   ]
  },
  {
   "cell_type": "code",
   "execution_count": 5,
   "metadata": {
    "ExecuteTime": {
     "end_time": "2018-10-18T13:02:40.047084Z",
     "start_time": "2018-10-18T13:02:39.888186Z"
    }
   },
   "outputs": [],
   "source": [
    "rawxl.columns = ['id.stat', 'name.stat', 'type.stat', 'region', 'provinsi', 'kabupaten', 'lintang.derajat', 'bujur.derajat', 'ketinggian.mdpl',\n",
    "'soil', 'exposure', 'land.use', 'time.zone']"
   ]
  },
  {
   "cell_type": "code",
   "execution_count": 6,
   "metadata": {
    "ExecuteTime": {
     "end_time": "2018-10-18T13:02:40.193212Z",
     "start_time": "2018-10-18T13:02:40.050081Z"
    }
   },
   "outputs": [
    {
     "data": {
      "text/html": [
       "<div>\n",
       "<style scoped>\n",
       "    .dataframe tbody tr th:only-of-type {\n",
       "        vertical-align: middle;\n",
       "    }\n",
       "\n",
       "    .dataframe tbody tr th {\n",
       "        vertical-align: top;\n",
       "    }\n",
       "\n",
       "    .dataframe thead th {\n",
       "        text-align: right;\n",
       "    }\n",
       "</style>\n",
       "<table border=\"1\" class=\"dataframe\">\n",
       "  <thead>\n",
       "    <tr style=\"text-align: right;\">\n",
       "      <th></th>\n",
       "      <th>id.stat</th>\n",
       "      <th>name.stat</th>\n",
       "      <th>type.stat</th>\n",
       "      <th>region</th>\n",
       "      <th>provinsi</th>\n",
       "      <th>kabupaten</th>\n",
       "      <th>lintang.derajat</th>\n",
       "      <th>bujur.derajat</th>\n",
       "      <th>ketinggian.mdpl</th>\n",
       "      <th>soil</th>\n",
       "      <th>exposure</th>\n",
       "      <th>land.use</th>\n",
       "      <th>time.zone</th>\n",
       "    </tr>\n",
       "  </thead>\n",
       "  <tbody>\n",
       "    <tr>\n",
       "      <th>0</th>\n",
       "      <td>11010101a</td>\n",
       "      <td>Bakongan</td>\n",
       "      <td>Pos Hujan Kerjasama</td>\n",
       "      <td>Region I</td>\n",
       "      <td>Nanggroe Aceh Darussalam</td>\n",
       "      <td>Kab. Aceh Selatan</td>\n",
       "      <td>2.95000</td>\n",
       "      <td>97.4700</td>\n",
       "      <td>0</td>\n",
       "      <td>NaN</td>\n",
       "      <td>NaN</td>\n",
       "      <td>NaN</td>\n",
       "      <td>+07:00</td>\n",
       "    </tr>\n",
       "    <tr>\n",
       "      <th>1</th>\n",
       "      <td>11010201a</td>\n",
       "      <td>Kluet Utara</td>\n",
       "      <td>Pos Hujan Kerjasama</td>\n",
       "      <td>Region I</td>\n",
       "      <td>Nanggroe Aceh Darussalam</td>\n",
       "      <td>Kab. Aceh Selatan</td>\n",
       "      <td>3.59000</td>\n",
       "      <td>97.0000</td>\n",
       "      <td>0</td>\n",
       "      <td>NaN</td>\n",
       "      <td>NaN</td>\n",
       "      <td>NaN</td>\n",
       "      <td>NaN</td>\n",
       "    </tr>\n",
       "    <tr>\n",
       "      <th>2</th>\n",
       "      <td>11010301a</td>\n",
       "      <td>Kluet Selatan</td>\n",
       "      <td>Pos Hujan Kerjasama</td>\n",
       "      <td>Region I</td>\n",
       "      <td>Nanggroe Aceh Darussalam</td>\n",
       "      <td>Kab. Aceh Selatan</td>\n",
       "      <td>3.03000</td>\n",
       "      <td>97.3800</td>\n",
       "      <td>0</td>\n",
       "      <td>NaN</td>\n",
       "      <td>NaN</td>\n",
       "      <td>NaN</td>\n",
       "      <td>NaN</td>\n",
       "    </tr>\n",
       "    <tr>\n",
       "      <th>3</th>\n",
       "      <td>11010401a</td>\n",
       "      <td>Labuhan Haji</td>\n",
       "      <td>Pos Hujan Kerjasama</td>\n",
       "      <td>Region I</td>\n",
       "      <td>Nanggroe Aceh Darussalam</td>\n",
       "      <td>Kab. Aceh Selatan</td>\n",
       "      <td>3.54000</td>\n",
       "      <td>97.0100</td>\n",
       "      <td>0</td>\n",
       "      <td>NaN</td>\n",
       "      <td>NaN</td>\n",
       "      <td>NaN</td>\n",
       "      <td>NaN</td>\n",
       "    </tr>\n",
       "    <tr>\n",
       "      <th>4</th>\n",
       "      <td>11010501a</td>\n",
       "      <td>Meukek</td>\n",
       "      <td>Pos Hujan Kerjasama</td>\n",
       "      <td>Region I</td>\n",
       "      <td>Nanggroe Aceh Darussalam</td>\n",
       "      <td>Kab. Aceh Selatan</td>\n",
       "      <td>3.54321</td>\n",
       "      <td>97.1523</td>\n",
       "      <td>0</td>\n",
       "      <td>NaN</td>\n",
       "      <td>NaN</td>\n",
       "      <td>NaN</td>\n",
       "      <td>NaN</td>\n",
       "    </tr>\n",
       "  </tbody>\n",
       "</table>\n",
       "</div>"
      ],
      "text/plain": [
       "     id.stat      name.stat            type.stat    region  \\\n",
       "0  11010101a       Bakongan  Pos Hujan Kerjasama  Region I   \n",
       "1  11010201a    Kluet Utara  Pos Hujan Kerjasama  Region I   \n",
       "2  11010301a  Kluet Selatan  Pos Hujan Kerjasama  Region I   \n",
       "3  11010401a   Labuhan Haji  Pos Hujan Kerjasama  Region I   \n",
       "4  11010501a         Meukek  Pos Hujan Kerjasama  Region I   \n",
       "\n",
       "                   provinsi          kabupaten  lintang.derajat  \\\n",
       "0  Nanggroe Aceh Darussalam  Kab. Aceh Selatan          2.95000   \n",
       "1  Nanggroe Aceh Darussalam  Kab. Aceh Selatan          3.59000   \n",
       "2  Nanggroe Aceh Darussalam  Kab. Aceh Selatan          3.03000   \n",
       "3  Nanggroe Aceh Darussalam  Kab. Aceh Selatan          3.54000   \n",
       "4  Nanggroe Aceh Darussalam  Kab. Aceh Selatan          3.54321   \n",
       "\n",
       "   bujur.derajat  ketinggian.mdpl  soil  exposure  land.use time.zone  \n",
       "0        97.4700                0   NaN       NaN       NaN    +07:00  \n",
       "1        97.0000                0   NaN       NaN       NaN       NaN  \n",
       "2        97.3800                0   NaN       NaN       NaN       NaN  \n",
       "3        97.0100                0   NaN       NaN       NaN       NaN  \n",
       "4        97.1523                0   NaN       NaN       NaN       NaN  "
      ]
     },
     "execution_count": 6,
     "metadata": {},
     "output_type": "execute_result"
    }
   ],
   "source": [
    "rawxl.head()"
   ]
  },
  {
   "cell_type": "code",
   "execution_count": 9,
   "metadata": {
    "ExecuteTime": {
     "end_time": "2018-10-18T13:02:53.871745Z",
     "start_time": "2018-10-18T13:02:53.844751Z"
    }
   },
   "outputs": [
    {
     "data": {
      "text/html": [
       "<div>\n",
       "<style scoped>\n",
       "    .dataframe tbody tr th:only-of-type {\n",
       "        vertical-align: middle;\n",
       "    }\n",
       "\n",
       "    .dataframe tbody tr th {\n",
       "        vertical-align: top;\n",
       "    }\n",
       "\n",
       "    .dataframe thead th {\n",
       "        text-align: right;\n",
       "    }\n",
       "</style>\n",
       "<table border=\"1\" class=\"dataframe\">\n",
       "  <thead>\n",
       "    <tr style=\"text-align: right;\">\n",
       "      <th></th>\n",
       "      <th>id.stat</th>\n",
       "      <th>name.stat</th>\n",
       "      <th>type.stat</th>\n",
       "      <th>region</th>\n",
       "      <th>provinsi</th>\n",
       "      <th>kabupaten</th>\n",
       "      <th>lintang.derajat</th>\n",
       "      <th>bujur.derajat</th>\n",
       "      <th>ketinggian.mdpl</th>\n",
       "      <th>soil</th>\n",
       "      <th>exposure</th>\n",
       "      <th>land.use</th>\n",
       "      <th>time.zone</th>\n",
       "    </tr>\n",
       "  </thead>\n",
       "  <tbody>\n",
       "    <tr>\n",
       "      <th>0</th>\n",
       "      <td>11010101a</td>\n",
       "      <td>Bakongan</td>\n",
       "      <td>Pos Hujan Kerjasama</td>\n",
       "      <td>Region I</td>\n",
       "      <td>Nanggroe Aceh Darussalam</td>\n",
       "      <td>Kab. Aceh Selatan</td>\n",
       "      <td>2.95000</td>\n",
       "      <td>97.4700</td>\n",
       "      <td>0</td>\n",
       "      <td>NaN</td>\n",
       "      <td>NaN</td>\n",
       "      <td>NaN</td>\n",
       "      <td>+07:00</td>\n",
       "    </tr>\n",
       "    <tr>\n",
       "      <th>1</th>\n",
       "      <td>11010201a</td>\n",
       "      <td>Kluet Utara</td>\n",
       "      <td>Pos Hujan Kerjasama</td>\n",
       "      <td>Region I</td>\n",
       "      <td>Nanggroe Aceh Darussalam</td>\n",
       "      <td>Kab. Aceh Selatan</td>\n",
       "      <td>3.59000</td>\n",
       "      <td>97.0000</td>\n",
       "      <td>0</td>\n",
       "      <td>NaN</td>\n",
       "      <td>NaN</td>\n",
       "      <td>NaN</td>\n",
       "      <td>NaN</td>\n",
       "    </tr>\n",
       "    <tr>\n",
       "      <th>2</th>\n",
       "      <td>11010301a</td>\n",
       "      <td>Kluet Selatan</td>\n",
       "      <td>Pos Hujan Kerjasama</td>\n",
       "      <td>Region I</td>\n",
       "      <td>Nanggroe Aceh Darussalam</td>\n",
       "      <td>Kab. Aceh Selatan</td>\n",
       "      <td>3.03000</td>\n",
       "      <td>97.3800</td>\n",
       "      <td>0</td>\n",
       "      <td>NaN</td>\n",
       "      <td>NaN</td>\n",
       "      <td>NaN</td>\n",
       "      <td>NaN</td>\n",
       "    </tr>\n",
       "    <tr>\n",
       "      <th>3</th>\n",
       "      <td>11010401a</td>\n",
       "      <td>Labuhan Haji</td>\n",
       "      <td>Pos Hujan Kerjasama</td>\n",
       "      <td>Region I</td>\n",
       "      <td>Nanggroe Aceh Darussalam</td>\n",
       "      <td>Kab. Aceh Selatan</td>\n",
       "      <td>3.54000</td>\n",
       "      <td>97.0100</td>\n",
       "      <td>0</td>\n",
       "      <td>NaN</td>\n",
       "      <td>NaN</td>\n",
       "      <td>NaN</td>\n",
       "      <td>NaN</td>\n",
       "    </tr>\n",
       "    <tr>\n",
       "      <th>4</th>\n",
       "      <td>11010501a</td>\n",
       "      <td>Meukek</td>\n",
       "      <td>Pos Hujan Kerjasama</td>\n",
       "      <td>Region I</td>\n",
       "      <td>Nanggroe Aceh Darussalam</td>\n",
       "      <td>Kab. Aceh Selatan</td>\n",
       "      <td>3.54321</td>\n",
       "      <td>97.1523</td>\n",
       "      <td>0</td>\n",
       "      <td>NaN</td>\n",
       "      <td>NaN</td>\n",
       "      <td>NaN</td>\n",
       "      <td>NaN</td>\n",
       "    </tr>\n",
       "  </tbody>\n",
       "</table>\n",
       "</div>"
      ],
      "text/plain": [
       "     id.stat      name.stat            type.stat    region  \\\n",
       "0  11010101a       Bakongan  Pos Hujan Kerjasama  Region I   \n",
       "1  11010201a    Kluet Utara  Pos Hujan Kerjasama  Region I   \n",
       "2  11010301a  Kluet Selatan  Pos Hujan Kerjasama  Region I   \n",
       "3  11010401a   Labuhan Haji  Pos Hujan Kerjasama  Region I   \n",
       "4  11010501a         Meukek  Pos Hujan Kerjasama  Region I   \n",
       "\n",
       "                   provinsi          kabupaten  lintang.derajat  \\\n",
       "0  Nanggroe Aceh Darussalam  Kab. Aceh Selatan          2.95000   \n",
       "1  Nanggroe Aceh Darussalam  Kab. Aceh Selatan          3.59000   \n",
       "2  Nanggroe Aceh Darussalam  Kab. Aceh Selatan          3.03000   \n",
       "3  Nanggroe Aceh Darussalam  Kab. Aceh Selatan          3.54000   \n",
       "4  Nanggroe Aceh Darussalam  Kab. Aceh Selatan          3.54321   \n",
       "\n",
       "   bujur.derajat  ketinggian.mdpl  soil  exposure  land.use time.zone  \n",
       "0        97.4700                0   NaN       NaN       NaN    +07:00  \n",
       "1        97.0000                0   NaN       NaN       NaN       NaN  \n",
       "2        97.3800                0   NaN       NaN       NaN       NaN  \n",
       "3        97.0100                0   NaN       NaN       NaN       NaN  \n",
       "4        97.1523                0   NaN       NaN       NaN       NaN  "
      ]
     },
     "execution_count": 9,
     "metadata": {},
     "output_type": "execute_result"
    }
   ],
   "source": [
    "rawxl.head()"
   ]
  },
  {
   "cell_type": "code",
   "execution_count": 10,
   "metadata": {
    "ExecuteTime": {
     "end_time": "2018-10-18T13:02:54.280785Z",
     "start_time": "2018-10-18T13:02:54.237809Z"
    }
   },
   "outputs": [
    {
     "data": {
      "text/html": [
       "<div>\n",
       "<style scoped>\n",
       "    .dataframe tbody tr th:only-of-type {\n",
       "        vertical-align: middle;\n",
       "    }\n",
       "\n",
       "    .dataframe tbody tr th {\n",
       "        vertical-align: top;\n",
       "    }\n",
       "\n",
       "    .dataframe thead th {\n",
       "        text-align: right;\n",
       "    }\n",
       "</style>\n",
       "<table border=\"1\" class=\"dataframe\">\n",
       "  <thead>\n",
       "    <tr style=\"text-align: right;\">\n",
       "      <th></th>\n",
       "      <th>id.stat</th>\n",
       "      <th>name.stat</th>\n",
       "      <th>type.stat</th>\n",
       "      <th>region</th>\n",
       "      <th>provinsi</th>\n",
       "      <th>kabupaten</th>\n",
       "      <th>lintang.derajat</th>\n",
       "      <th>bujur.derajat</th>\n",
       "      <th>ketinggian.mdpl</th>\n",
       "      <th>soil</th>\n",
       "      <th>exposure</th>\n",
       "      <th>land.use</th>\n",
       "      <th>time.zone</th>\n",
       "    </tr>\n",
       "  </thead>\n",
       "  <tbody>\n",
       "    <tr>\n",
       "      <th>800</th>\n",
       "      <td>96751</td>\n",
       "      <td>Stasiun Meteorologi Citeko</td>\n",
       "      <td>UPT</td>\n",
       "      <td>Region II</td>\n",
       "      <td>Jawa Barat</td>\n",
       "      <td>Kab. Bogor</td>\n",
       "      <td>-6.70000</td>\n",
       "      <td>106.85000</td>\n",
       "      <td>920</td>\n",
       "      <td>NaN</td>\n",
       "      <td>NaN</td>\n",
       "      <td>NaN</td>\n",
       "      <td>+07:00</td>\n",
       "    </tr>\n",
       "    <tr>\n",
       "      <th>805</th>\n",
       "      <td>32012509g</td>\n",
       "      <td>AWS Stamet Citeko</td>\n",
       "      <td>aws</td>\n",
       "      <td>Region II</td>\n",
       "      <td>Jawa Barat</td>\n",
       "      <td>Kab. Bogor</td>\n",
       "      <td>-6.69796</td>\n",
       "      <td>106.93510</td>\n",
       "      <td>0</td>\n",
       "      <td>NaN</td>\n",
       "      <td>NaN</td>\n",
       "      <td>NaN</td>\n",
       "      <td>NaN</td>\n",
       "    </tr>\n",
       "    <tr>\n",
       "      <th>873</th>\n",
       "      <td>32012508a</td>\n",
       "      <td>Citeko</td>\n",
       "      <td>Pos Hujan Kerjasama</td>\n",
       "      <td>Region II</td>\n",
       "      <td>Jawa Barat</td>\n",
       "      <td>Kab. Bogor</td>\n",
       "      <td>-6.68620</td>\n",
       "      <td>106.92534</td>\n",
       "      <td>887</td>\n",
       "      <td>NaN</td>\n",
       "      <td>NaN</td>\n",
       "      <td>NaN</td>\n",
       "      <td>NaN</td>\n",
       "    </tr>\n",
       "    <tr>\n",
       "      <th>874</th>\n",
       "      <td>32012510a</td>\n",
       "      <td>Panjang Citeko</td>\n",
       "      <td>Pos Hujan Kerjasama</td>\n",
       "      <td>Region II</td>\n",
       "      <td>Jawa Barat</td>\n",
       "      <td>Kab. Bogor</td>\n",
       "      <td>-6.70242</td>\n",
       "      <td>106.93765</td>\n",
       "      <td>1022</td>\n",
       "      <td>NaN</td>\n",
       "      <td>NaN</td>\n",
       "      <td>NaN</td>\n",
       "      <td>NaN</td>\n",
       "    </tr>\n",
       "  </tbody>\n",
       "</table>\n",
       "</div>"
      ],
      "text/plain": [
       "       id.stat                   name.stat            type.stat     region  \\\n",
       "800      96751  Stasiun Meteorologi Citeko                  UPT  Region II   \n",
       "805  32012509g           AWS Stamet Citeko                  aws  Region II   \n",
       "873  32012508a                      Citeko  Pos Hujan Kerjasama  Region II   \n",
       "874  32012510a              Panjang Citeko  Pos Hujan Kerjasama  Region II   \n",
       "\n",
       "       provinsi   kabupaten  lintang.derajat  bujur.derajat  ketinggian.mdpl  \\\n",
       "800  Jawa Barat  Kab. Bogor         -6.70000      106.85000              920   \n",
       "805  Jawa Barat  Kab. Bogor         -6.69796      106.93510                0   \n",
       "873  Jawa Barat  Kab. Bogor         -6.68620      106.92534              887   \n",
       "874  Jawa Barat  Kab. Bogor         -6.70242      106.93765             1022   \n",
       "\n",
       "     soil  exposure  land.use time.zone  \n",
       "800   NaN       NaN       NaN    +07:00  \n",
       "805   NaN       NaN       NaN       NaN  \n",
       "873   NaN       NaN       NaN       NaN  \n",
       "874   NaN       NaN       NaN       NaN  "
      ]
     },
     "execution_count": 10,
     "metadata": {},
     "output_type": "execute_result"
    }
   ],
   "source": [
    "rawxl[rawxl['name.stat'].str.contains('citeko',case=False)]"
   ]
  },
  {
   "cell_type": "code",
   "execution_count": 11,
   "metadata": {
    "ExecuteTime": {
     "end_time": "2018-10-18T13:02:54.783561Z",
     "start_time": "2018-10-18T13:02:54.536629Z"
    }
   },
   "outputs": [],
   "source": [
    "rawxl.to_csv('metadata_station.csv')"
   ]
  },
  {
   "cell_type": "code",
   "execution_count": 31,
   "metadata": {
    "ExecuteTime": {
     "end_time": "2018-10-18T13:31:39.769524Z",
     "start_time": "2018-10-18T13:31:39.764545Z"
    }
   },
   "outputs": [],
   "source": [
    "sedia_jabar_file = '../testdata/bmkg/Ketersediaan_Data_Table_curah_hujan.xlsx'\n",
    "sedia_jabar_file = pathlib.Path(sedia_jabar_file)"
   ]
  },
  {
   "cell_type": "code",
   "execution_count": 32,
   "metadata": {
    "ExecuteTime": {
     "end_time": "2018-10-18T13:31:41.793771Z",
     "start_time": "2018-10-18T13:31:41.045211Z"
    }
   },
   "outputs": [],
   "source": [
    "rawxl_sedia = pd.read_excel(sedia_jabar_file, skiprows=range(3))"
   ]
  },
  {
   "cell_type": "code",
   "execution_count": 38,
   "metadata": {
    "ExecuteTime": {
     "end_time": "2018-10-18T13:46:37.823613Z",
     "start_time": "2018-10-18T13:46:37.813618Z"
    }
   },
   "outputs": [
    {
     "data": {
      "text/plain": [
       "Index(['Kode Stasiun', 'Nama Stasiun',  'Bulan Tahun',           '01',\n",
       "                 '02',           '03',           '04',           '05',\n",
       "                 '06',           '07',           '08',           '09',\n",
       "                   10,             11,             12,             13,\n",
       "                   14,             15,             16,             17,\n",
       "                   18,             19,             20,             21,\n",
       "                   22,             23,             24,             25,\n",
       "                   26,             27,             28,             29,\n",
       "                   30,             31,   'Persentase'],\n",
       "      dtype='object')"
      ]
     },
     "execution_count": 38,
     "metadata": {},
     "output_type": "execute_result"
    }
   ],
   "source": [
    "rawxl_sedia.columns\n"
   ]
  },
  {
   "cell_type": "code",
   "execution_count": 39,
   "metadata": {
    "ExecuteTime": {
     "end_time": "2018-10-18T13:46:45.174326Z",
     "start_time": "2018-10-18T13:46:45.165332Z"
    }
   },
   "outputs": [
    {
     "data": {
      "text/plain": [
       "Index(['Kode Stasiun', 'Nama Stasiun',  'Bulan Tahun',           '01',\n",
       "                 '02',           '03',           '04',           '05',\n",
       "                 '06',           '07',           '08',           '09',\n",
       "                   10,             11,             12,             13,\n",
       "                   14,             15,             16,             17,\n",
       "                   18,             19,             20,             21,\n",
       "                   22,             23,             24,             25,\n",
       "                   26,             27,             28,             29,\n",
       "                   30,             31,   'Persentase'],\n",
       "      dtype='object')"
      ]
     },
     "execution_count": 39,
     "metadata": {},
     "output_type": "execute_result"
    }
   ],
   "source": [
    "rawxl_sedia.columns"
   ]
  },
  {
   "cell_type": "code",
   "execution_count": null,
   "metadata": {},
   "outputs": [],
   "source": []
  }
 ],
 "metadata": {
  "hide_input": false,
  "kernelspec": {
   "display_name": "Python [default]",
   "language": "python",
   "name": "python3"
  },
  "language_info": {
   "codemirror_mode": {
    "name": "ipython",
    "version": 3
   },
   "file_extension": ".py",
   "mimetype": "text/x-python",
   "name": "python",
   "nbconvert_exporter": "python",
   "pygments_lexer": "ipython3",
   "version": "3.7.0"
  },
  "toc": {
   "base_numbering": 1,
   "nav_menu": {},
   "number_sections": true,
   "sideBar": true,
   "skip_h1_title": false,
   "title_cell": "Table of Contents",
   "title_sidebar": "Contents",
   "toc_cell": false,
   "toc_position": {},
   "toc_section_display": true,
   "toc_window_display": false
  },
  "varInspector": {
   "cols": {
    "lenName": 16,
    "lenType": 16,
    "lenVar": 40
   },
   "kernels_config": {
    "python": {
     "delete_cmd_postfix": "",
     "delete_cmd_prefix": "del ",
     "library": "var_list.py",
     "varRefreshCmd": "print(var_dic_list())"
    },
    "r": {
     "delete_cmd_postfix": ") ",
     "delete_cmd_prefix": "rm(",
     "library": "var_list.r",
     "varRefreshCmd": "cat(var_dic_list()) "
    }
   },
   "types_to_exclude": [
    "module",
    "function",
    "builtin_function_or_method",
    "instance",
    "_Feature"
   ],
   "window_display": false
  }
 },
 "nbformat": 4,
 "nbformat_minor": 2
}
