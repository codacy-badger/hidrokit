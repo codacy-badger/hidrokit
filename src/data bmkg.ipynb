{
 "cells": [
  {
   "cell_type": "code",
   "execution_count": 1,
   "metadata": {
    "ExecuteTime": {
     "end_time": "2018-10-18T08:37:40.321110Z",
     "start_time": "2018-10-18T08:37:39.925839Z"
    }
   },
   "outputs": [],
   "source": [
    "import pandas as pd\n",
    "import pathlib"
   ]
  },
  {
   "cell_type": "code",
   "execution_count": 2,
   "metadata": {
    "ExecuteTime": {
     "end_time": "2018-10-18T08:37:50.078802Z",
     "start_time": "2018-10-18T08:37:50.073805Z"
    }
   },
   "outputs": [],
   "source": [
    "meta_file = '../testdata/bmkg/laporan_metadata_stasiun.xlsx'\n",
    "meta_file = pathlib.Path(meta_file)"
   ]
  },
  {
   "cell_type": "code",
   "execution_count": 7,
   "metadata": {
    "ExecuteTime": {
     "end_time": "2018-10-18T08:40:20.887606Z",
     "start_time": "2018-10-18T08:40:19.539794Z"
    }
   },
   "outputs": [],
   "source": [
    "rawxl = pd.read_excel(meta_file, skiprows=range(0,5))"
   ]
  },
  {
   "cell_type": "code",
   "execution_count": 8,
   "metadata": {
    "ExecuteTime": {
     "end_time": "2018-10-18T08:40:25.341823Z",
     "start_time": "2018-10-18T08:40:25.335827Z"
    }
   },
   "outputs": [
    {
     "data": {
      "text/plain": [
       "Index(['No. Stasiun ', 'Nama Stasiun', 'Jenis Stasiun', 'Region', 'Propinsi',\n",
       "       'Kabupaten', 'Lintang (°)', 'Bujur (°)', 'Ketinggian (mdpl)', 'Soil',\n",
       "       'Exposure', 'Land Use', 'Time Zone'],\n",
       "      dtype='object')"
      ]
     },
     "execution_count": 8,
     "metadata": {},
     "output_type": "execute_result"
    }
   ],
   "source": [
    "rawxl.columns"
   ]
  },
  {
   "cell_type": "code",
   "execution_count": 10,
   "metadata": {
    "ExecuteTime": {
     "end_time": "2018-10-18T08:42:16.542313Z",
     "start_time": "2018-10-18T08:42:16.538317Z"
    }
   },
   "outputs": [],
   "source": [
    "rawxl.columns = ['id.stat', 'name.stat', 'type.stat', 'region', 'provinsi', 'kabupaten', 'lintang.derajat', 'bujur.derajat', 'ketinggian.mdpl',\n",
    "'soil', 'exposure', 'land.use', 'time.zone']"
   ]
  },
  {
   "cell_type": "code",
   "execution_count": 12,
   "metadata": {
    "ExecuteTime": {
     "end_time": "2018-10-18T08:42:24.383649Z",
     "start_time": "2018-10-18T08:42:24.357666Z"
    }
   },
   "outputs": [
    {
     "data": {
      "text/html": [
       "<div>\n",
       "<style scoped>\n",
       "    .dataframe tbody tr th:only-of-type {\n",
       "        vertical-align: middle;\n",
       "    }\n",
       "\n",
       "    .dataframe tbody tr th {\n",
       "        vertical-align: top;\n",
       "    }\n",
       "\n",
       "    .dataframe thead th {\n",
       "        text-align: right;\n",
       "    }\n",
       "</style>\n",
       "<table border=\"1\" class=\"dataframe\">\n",
       "  <thead>\n",
       "    <tr style=\"text-align: right;\">\n",
       "      <th></th>\n",
       "      <th>id.stat</th>\n",
       "      <th>name.stat</th>\n",
       "      <th>type.stat</th>\n",
       "      <th>region</th>\n",
       "      <th>provinsi</th>\n",
       "      <th>kabupaten</th>\n",
       "      <th>lintang.derajat</th>\n",
       "      <th>bujur.derajat</th>\n",
       "      <th>ketinggian.mdpl</th>\n",
       "      <th>soil</th>\n",
       "      <th>exposure</th>\n",
       "      <th>land.use</th>\n",
       "      <th>time.zone</th>\n",
       "    </tr>\n",
       "  </thead>\n",
       "  <tbody>\n",
       "    <tr>\n",
       "      <th>0</th>\n",
       "      <td>11010101a</td>\n",
       "      <td>Bakongan</td>\n",
       "      <td>Pos Hujan Kerjasama</td>\n",
       "      <td>Region I</td>\n",
       "      <td>Nanggroe Aceh Darussalam</td>\n",
       "      <td>Kab. Aceh Selatan</td>\n",
       "      <td>2.95000</td>\n",
       "      <td>97.4700</td>\n",
       "      <td>0</td>\n",
       "      <td>NaN</td>\n",
       "      <td>NaN</td>\n",
       "      <td>NaN</td>\n",
       "      <td>+07:00</td>\n",
       "    </tr>\n",
       "    <tr>\n",
       "      <th>1</th>\n",
       "      <td>11010201a</td>\n",
       "      <td>Kluet Utara</td>\n",
       "      <td>Pos Hujan Kerjasama</td>\n",
       "      <td>Region I</td>\n",
       "      <td>Nanggroe Aceh Darussalam</td>\n",
       "      <td>Kab. Aceh Selatan</td>\n",
       "      <td>3.59000</td>\n",
       "      <td>97.0000</td>\n",
       "      <td>0</td>\n",
       "      <td>NaN</td>\n",
       "      <td>NaN</td>\n",
       "      <td>NaN</td>\n",
       "      <td>NaN</td>\n",
       "    </tr>\n",
       "    <tr>\n",
       "      <th>2</th>\n",
       "      <td>11010301a</td>\n",
       "      <td>Kluet Selatan</td>\n",
       "      <td>Pos Hujan Kerjasama</td>\n",
       "      <td>Region I</td>\n",
       "      <td>Nanggroe Aceh Darussalam</td>\n",
       "      <td>Kab. Aceh Selatan</td>\n",
       "      <td>3.03000</td>\n",
       "      <td>97.3800</td>\n",
       "      <td>0</td>\n",
       "      <td>NaN</td>\n",
       "      <td>NaN</td>\n",
       "      <td>NaN</td>\n",
       "      <td>NaN</td>\n",
       "    </tr>\n",
       "    <tr>\n",
       "      <th>3</th>\n",
       "      <td>11010401a</td>\n",
       "      <td>Labuhan Haji</td>\n",
       "      <td>Pos Hujan Kerjasama</td>\n",
       "      <td>Region I</td>\n",
       "      <td>Nanggroe Aceh Darussalam</td>\n",
       "      <td>Kab. Aceh Selatan</td>\n",
       "      <td>3.54000</td>\n",
       "      <td>97.0100</td>\n",
       "      <td>0</td>\n",
       "      <td>NaN</td>\n",
       "      <td>NaN</td>\n",
       "      <td>NaN</td>\n",
       "      <td>NaN</td>\n",
       "    </tr>\n",
       "    <tr>\n",
       "      <th>4</th>\n",
       "      <td>11010501a</td>\n",
       "      <td>Meukek</td>\n",
       "      <td>Pos Hujan Kerjasama</td>\n",
       "      <td>Region I</td>\n",
       "      <td>Nanggroe Aceh Darussalam</td>\n",
       "      <td>Kab. Aceh Selatan</td>\n",
       "      <td>3.54321</td>\n",
       "      <td>97.1523</td>\n",
       "      <td>0</td>\n",
       "      <td>NaN</td>\n",
       "      <td>NaN</td>\n",
       "      <td>NaN</td>\n",
       "      <td>NaN</td>\n",
       "    </tr>\n",
       "  </tbody>\n",
       "</table>\n",
       "</div>"
      ],
      "text/plain": [
       "     id.stat      name.stat            type.stat    region  \\\n",
       "0  11010101a       Bakongan  Pos Hujan Kerjasama  Region I   \n",
       "1  11010201a    Kluet Utara  Pos Hujan Kerjasama  Region I   \n",
       "2  11010301a  Kluet Selatan  Pos Hujan Kerjasama  Region I   \n",
       "3  11010401a   Labuhan Haji  Pos Hujan Kerjasama  Region I   \n",
       "4  11010501a         Meukek  Pos Hujan Kerjasama  Region I   \n",
       "\n",
       "                   provinsi          kabupaten  lintang.derajat  \\\n",
       "0  Nanggroe Aceh Darussalam  Kab. Aceh Selatan          2.95000   \n",
       "1  Nanggroe Aceh Darussalam  Kab. Aceh Selatan          3.59000   \n",
       "2  Nanggroe Aceh Darussalam  Kab. Aceh Selatan          3.03000   \n",
       "3  Nanggroe Aceh Darussalam  Kab. Aceh Selatan          3.54000   \n",
       "4  Nanggroe Aceh Darussalam  Kab. Aceh Selatan          3.54321   \n",
       "\n",
       "   bujur.derajat  ketinggian.mdpl  soil  exposure  land.use time.zone  \n",
       "0        97.4700                0   NaN       NaN       NaN    +07:00  \n",
       "1        97.0000                0   NaN       NaN       NaN       NaN  \n",
       "2        97.3800                0   NaN       NaN       NaN       NaN  \n",
       "3        97.0100                0   NaN       NaN       NaN       NaN  \n",
       "4        97.1523                0   NaN       NaN       NaN       NaN  "
      ]
     },
     "execution_count": 12,
     "metadata": {},
     "output_type": "execute_result"
    }
   ],
   "source": [
    "rawxl.head()"
   ]
  },
  {
   "cell_type": "code",
   "execution_count": null,
   "metadata": {},
   "outputs": [],
   "source": [
    "raw"
   ]
  },
  {
   "cell_type": "code",
   "execution_count": 52,
   "metadata": {
    "ExecuteTime": {
     "end_time": "2018-10-18T08:55:20.911700Z",
     "start_time": "2018-10-18T08:55:20.870213Z"
    }
   },
   "outputs": [
    {
     "data": {
      "text/html": [
       "<div>\n",
       "<style scoped>\n",
       "    .dataframe tbody tr th:only-of-type {\n",
       "        vertical-align: middle;\n",
       "    }\n",
       "\n",
       "    .dataframe tbody tr th {\n",
       "        vertical-align: top;\n",
       "    }\n",
       "\n",
       "    .dataframe thead th {\n",
       "        text-align: right;\n",
       "    }\n",
       "</style>\n",
       "<table border=\"1\" class=\"dataframe\">\n",
       "  <thead>\n",
       "    <tr style=\"text-align: right;\">\n",
       "      <th></th>\n",
       "      <th>id.stat</th>\n",
       "      <th>name.stat</th>\n",
       "      <th>type.stat</th>\n",
       "      <th>region</th>\n",
       "      <th>provinsi</th>\n",
       "      <th>kabupaten</th>\n",
       "      <th>lintang.derajat</th>\n",
       "      <th>bujur.derajat</th>\n",
       "      <th>ketinggian.mdpl</th>\n",
       "      <th>soil</th>\n",
       "      <th>exposure</th>\n",
       "      <th>land.use</th>\n",
       "      <th>time.zone</th>\n",
       "    </tr>\n",
       "  </thead>\n",
       "  <tbody>\n",
       "    <tr>\n",
       "      <th>800</th>\n",
       "      <td>96751</td>\n",
       "      <td>Stasiun Meteorologi Citeko</td>\n",
       "      <td>UPT</td>\n",
       "      <td>Region II</td>\n",
       "      <td>Jawa Barat</td>\n",
       "      <td>Kab. Bogor</td>\n",
       "      <td>-6.70000</td>\n",
       "      <td>106.85000</td>\n",
       "      <td>920</td>\n",
       "      <td>NaN</td>\n",
       "      <td>NaN</td>\n",
       "      <td>NaN</td>\n",
       "      <td>+07:00</td>\n",
       "    </tr>\n",
       "    <tr>\n",
       "      <th>805</th>\n",
       "      <td>32012509g</td>\n",
       "      <td>AWS Stamet Citeko</td>\n",
       "      <td>aws</td>\n",
       "      <td>Region II</td>\n",
       "      <td>Jawa Barat</td>\n",
       "      <td>Kab. Bogor</td>\n",
       "      <td>-6.69796</td>\n",
       "      <td>106.93510</td>\n",
       "      <td>0</td>\n",
       "      <td>NaN</td>\n",
       "      <td>NaN</td>\n",
       "      <td>NaN</td>\n",
       "      <td>NaN</td>\n",
       "    </tr>\n",
       "    <tr>\n",
       "      <th>873</th>\n",
       "      <td>32012508a</td>\n",
       "      <td>Citeko</td>\n",
       "      <td>Pos Hujan Kerjasama</td>\n",
       "      <td>Region II</td>\n",
       "      <td>Jawa Barat</td>\n",
       "      <td>Kab. Bogor</td>\n",
       "      <td>-6.68620</td>\n",
       "      <td>106.92534</td>\n",
       "      <td>887</td>\n",
       "      <td>NaN</td>\n",
       "      <td>NaN</td>\n",
       "      <td>NaN</td>\n",
       "      <td>NaN</td>\n",
       "    </tr>\n",
       "    <tr>\n",
       "      <th>874</th>\n",
       "      <td>32012510a</td>\n",
       "      <td>Panjang Citeko</td>\n",
       "      <td>Pos Hujan Kerjasama</td>\n",
       "      <td>Region II</td>\n",
       "      <td>Jawa Barat</td>\n",
       "      <td>Kab. Bogor</td>\n",
       "      <td>-6.70242</td>\n",
       "      <td>106.93765</td>\n",
       "      <td>1022</td>\n",
       "      <td>NaN</td>\n",
       "      <td>NaN</td>\n",
       "      <td>NaN</td>\n",
       "      <td>NaN</td>\n",
       "    </tr>\n",
       "  </tbody>\n",
       "</table>\n",
       "</div>"
      ],
      "text/plain": [
       "       id.stat                   name.stat            type.stat     region  \\\n",
       "800      96751  Stasiun Meteorologi Citeko                  UPT  Region II   \n",
       "805  32012509g           AWS Stamet Citeko                  aws  Region II   \n",
       "873  32012508a                      Citeko  Pos Hujan Kerjasama  Region II   \n",
       "874  32012510a              Panjang Citeko  Pos Hujan Kerjasama  Region II   \n",
       "\n",
       "       provinsi   kabupaten  lintang.derajat  bujur.derajat  ketinggian.mdpl  \\\n",
       "800  Jawa Barat  Kab. Bogor         -6.70000      106.85000              920   \n",
       "805  Jawa Barat  Kab. Bogor         -6.69796      106.93510                0   \n",
       "873  Jawa Barat  Kab. Bogor         -6.68620      106.92534              887   \n",
       "874  Jawa Barat  Kab. Bogor         -6.70242      106.93765             1022   \n",
       "\n",
       "     soil  exposure  land.use time.zone  \n",
       "800   NaN       NaN       NaN    +07:00  \n",
       "805   NaN       NaN       NaN       NaN  \n",
       "873   NaN       NaN       NaN       NaN  \n",
       "874   NaN       NaN       NaN       NaN  "
      ]
     },
     "execution_count": 52,
     "metadata": {},
     "output_type": "execute_result"
    }
   ],
   "source": [
    "rawxl[rawxl['name.stat'].str.contains('citeko',case=False)]"
   ]
  },
  {
   "cell_type": "code",
   "execution_count": 27,
   "metadata": {
    "ExecuteTime": {
     "end_time": "2018-10-18T08:47:52.309425Z",
     "start_time": "2018-10-18T08:47:52.129532Z"
    }
   },
   "outputs": [],
   "source": [
    "rawxl.to_csv('metadata_station.csv')"
   ]
  },
  {
   "cell_type": "code",
   "execution_count": 28,
   "metadata": {
    "ExecuteTime": {
     "end_time": "2018-10-18T08:50:35.604835Z",
     "start_time": "2018-10-18T08:50:35.600838Z"
    }
   },
   "outputs": [],
   "source": [
    "sedia_jabar_file = '../testdata/bmkg/Ketersediaan_Data_Table_curah_hujan.xlsx'\n",
    "sedia_jabar_file = pathlib.Path(sedia_jabar_file)"
   ]
  },
  {
   "cell_type": "code",
   "execution_count": 40,
   "metadata": {
    "ExecuteTime": {
     "end_time": "2018-10-18T08:52:09.240003Z",
     "start_time": "2018-10-18T08:52:08.465554Z"
    }
   },
   "outputs": [],
   "source": [
    "rawxl_sedia = pd.read_excel(sedia_jabar_file, skiprows=range(3))"
   ]
  },
  {
   "cell_type": "code",
   "execution_count": 41,
   "metadata": {
    "ExecuteTime": {
     "end_time": "2018-10-18T08:52:13.132542Z",
     "start_time": "2018-10-18T08:52:13.110553Z"
    }
   },
   "outputs": [
    {
     "name": "stdout",
     "output_type": "stream",
     "text": [
      "<class 'pandas.core.frame.DataFrame'>\n",
      "RangeIndex: 1776 entries, 0 to 1775\n",
      "Data columns (total 35 columns):\n",
      "Kode Stasiun    1776 non-null int64\n",
      "Nama Stasiun    1776 non-null object\n",
      "Bulan Tahun     1776 non-null object\n",
      "01              1776 non-null object\n",
      "02              1776 non-null object\n",
      "03              1776 non-null object\n",
      "04              1776 non-null object\n",
      "05              1776 non-null object\n",
      "06              1776 non-null object\n",
      "07              1776 non-null object\n",
      "08              1776 non-null object\n",
      "09              1776 non-null object\n",
      "10              1776 non-null object\n",
      "11              1776 non-null object\n",
      "12              1776 non-null object\n",
      "13              1776 non-null object\n",
      "14              1776 non-null object\n",
      "15              1776 non-null object\n",
      "16              1776 non-null object\n",
      "17              1776 non-null object\n",
      "18              1776 non-null object\n",
      "19              1776 non-null object\n",
      "20              1776 non-null object\n",
      "21              1776 non-null object\n",
      "22              1776 non-null object\n",
      "23              1776 non-null object\n",
      "24              1776 non-null object\n",
      "25              1776 non-null object\n",
      "26              1776 non-null object\n",
      "27              1776 non-null object\n",
      "28              1776 non-null object\n",
      "29              1776 non-null object\n",
      "30              1776 non-null object\n",
      "31              1776 non-null object\n",
      "Persentase      1776 non-null object\n",
      "dtypes: int64(1), object(34)\n",
      "memory usage: 485.7+ KB\n"
     ]
    }
   ],
   "source": [
    "rawxl_sedia.info()"
   ]
  },
  {
   "cell_type": "code",
   "execution_count": null,
   "metadata": {},
   "outputs": [],
   "source": []
  }
 ],
 "metadata": {
  "hide_input": false,
  "kernelspec": {
   "display_name": "Python [default]",
   "language": "python",
   "name": "python3"
  },
  "language_info": {
   "codemirror_mode": {
    "name": "ipython",
    "version": 3
   },
   "file_extension": ".py",
   "mimetype": "text/x-python",
   "name": "python",
   "nbconvert_exporter": "python",
   "pygments_lexer": "ipython3",
   "version": "3.7.0"
  },
  "toc": {
   "base_numbering": 1,
   "nav_menu": {},
   "number_sections": true,
   "sideBar": true,
   "skip_h1_title": false,
   "title_cell": "Table of Contents",
   "title_sidebar": "Contents",
   "toc_cell": false,
   "toc_position": {},
   "toc_section_display": true,
   "toc_window_display": false
  },
  "varInspector": {
   "cols": {
    "lenName": 16,
    "lenType": 16,
    "lenVar": 40
   },
   "kernels_config": {
    "python": {
     "delete_cmd_postfix": "",
     "delete_cmd_prefix": "del ",
     "library": "var_list.py",
     "varRefreshCmd": "print(var_dic_list())"
    },
    "r": {
     "delete_cmd_postfix": ") ",
     "delete_cmd_prefix": "rm(",
     "library": "var_list.r",
     "varRefreshCmd": "cat(var_dic_list()) "
    }
   },
   "types_to_exclude": [
    "module",
    "function",
    "builtin_function_or_method",
    "instance",
    "_Feature"
   ],
   "window_display": false
  }
 },
 "nbformat": 4,
 "nbformat_minor": 2
}
